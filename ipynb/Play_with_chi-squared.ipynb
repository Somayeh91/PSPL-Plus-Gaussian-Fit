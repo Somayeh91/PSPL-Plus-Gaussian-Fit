{
 "cells": [
  {
   "cell_type": "code",
   "execution_count": 4,
   "metadata": {
    "collapsed": false
   },
   "outputs": [],
   "source": [
    "import glob,os,sys\n",
    "import numpy as np\n",
    "import matplotlib.pyplot as plt\n",
    "import matplotlib\n",
    "from numpy import *\n",
    "import re\n",
    "import scipy.stats as st\n",
    "from os.path import expanduser\n",
    "import cmath\n",
    "import scipy.optimize as op\n",
    "import time\n",
    "import gzip\n",
    "import pandas as pd\n",
    "from mpl_toolkits.axes_grid1.inset_locator import zoomed_inset_axes\n",
    "from mpl_toolkits.axes_grid1.inset_locator import (mark_inset,inset_axes,InsetPosition)\n",
    "%matplotlib inline\n",
    "\n",
    "\n"
   ]
  },
  {
   "cell_type": "code",
   "execution_count": 5,
   "metadata": {
    "collapsed": false
   },
   "outputs": [],
   "source": [
    "# Say, \"the default sans-serif font is COMIC SANS\"\n",
    "matplotlib.rcParams['font.sans-serif'] = \"Times New Roman\"\n",
    "# Then, \"ALWAYS use sans-serif fonts\"\n",
    "matplotlib.rcParams['font.family'] = \"serif\"\n",
    "\n",
    "start = time.time()\n",
    "\n",
    "home = os.path.expanduser(\"~\")\n",
    "\n",
    "direc = os.listdir(\".\")\n",
    "\n"
   ]
  },
  {
   "cell_type": "code",
   "execution_count": 37,
   "metadata": {
    "collapsed": true
   },
   "outputs": [],
   "source": [
    "def empty(df):\n",
    "    return len(df.index) == 0\n",
    "    \n",
    "def fwhm(valuelist, peakpos,base):\n",
    "    peakvalue = valuelist[peakpos]-base\n",
    "    phalf = (peakvalue / 2.0)+base\n",
    "\n",
    "    # go left and right, starting from peakpos\n",
    "    ind1 = peakpos\n",
    "    ind2 = peakpos   \n",
    "\n",
    "    while ind1>2 and valuelist[ind1]>phalf:\n",
    "        ind1=ind1-1\n",
    "    while ind2<len(valuelist)-1 and valuelist[ind2]>phalf:\n",
    "        ind2=ind2+1  \n",
    "    return ind1,ind2\n",
    "\n",
    "def tE_finder (t,f,f_s):\n",
    "    df = pd.DataFrame({'t' : t, 'f' : f})\n",
    "    \n",
    "    A_base = (float(f_s)*0.34)+1\n",
    "    \n",
    "    t_max = df['t'][df['f'].argmax()]\n",
    "    t_right = df['t'][df['t']>t_max]\n",
    "    t_left = df['t'][df['t']<t_max]\n",
    "    \n",
    "    if empty(t_right) == 'False':\n",
    "        tE_right = np.abs(t_right[(np.abs(df['f'][df['t']>t_max]-(A_base))).argmin()]-t_max)\n",
    "    else:\n",
    "        tE_right = 1\n",
    "    if empty(t_left) == 'False':\n",
    "        tE_left = np.abs(t_left[(np.abs(df['f'][df['t']<t_max]-(A_base))).argmin()]-t_max)\n",
    "    else:\n",
    "        tE_left = 1\n",
    "    \n",
    "    return min([tE_right,tE_left])\n",
    "\n",
    "def fun (t0,u0,tE,f_s):\n",
    "    u = np.sqrt(u0**2+((df['t']-t0)/tE)**2)\n",
    "    A = ((u**2)+2)/(u*np.sqrt(u**2+4))\n",
    "    return (f_s * (A-1)) +1\n",
    "        \n",
    "def fun2 (mean, sigma,amp, t0,u0,tE,f_s):\n",
    "    u = np.sqrt(u0**2+((df['t']-t0)/tE)**2)\n",
    "    A = (((amp/np.sqrt(2*pi*(sigma**2)))*np.exp(-((df['t']-mean)**2)/(2*(sigma**2)))))+((u**2)+2)/(u*np.sqrt((u**2)+4))\n",
    "    return (f_s * (A-1)) +1\n",
    "\n",
    "def lnlike(theta, t, f, f_err):\n",
    "    t0, u0, tE,f_s = theta\n",
    "    model = fun(t0, u0, tE,f_s)\n",
    "    inv_sigma2 = 1.0/(f_err**2)\n",
    "    return -0.5*(np.sum((f-model)**2*inv_sigma2))\n",
    "\n",
    "def lnlike2(theta, t, f, f_err):\n",
    "    mean, sigma,amp, t0,u0,tE,f_s = theta\n",
    "    model = fun2(mean, sigma,amp, t0,u0,tE,f_s)\n",
    "    inv_sigma2 = 1.0/(f_err**2)\n",
    "    return -0.5*(np.sum((f-model)**2*inv_sigma2))\n",
    "\n",
    "def smooth(y, box_pts):\n",
    "    box = np.ones(box_pts)/box_pts\n",
    "    y_smooth = np.convolve(y, box, mode='same')\n",
    "    return y_smooth\n",
    "def chisq(theta, t, f, f_err):\n",
    "    t0, u0, tE,f_s = theta\n",
    "    model = fun(t0, u0, tE,f_s)\n",
    "    inv_sigma2 = 1.0/(f_err**2)\n",
    "    chii = ((f-model)**2*inv_sigma2)\n",
    "    \n",
    "    c = (np.cumsum(chii))\n",
    "    #c = (c)-N\n",
    "    #cu_chi= np.cumsum(c)\n",
    "    #cu_chi = cu_chi/max(cu_chi)\n",
    "    return c\n"
   ]
  },
  {
   "cell_type": "code",
   "execution_count": 26,
   "metadata": {
    "collapsed": false
   },
   "outputs": [],
   "source": [
    "name = 'cassan_9_62_2163.det.lc.gz'  \n",
    "tempdata = home+'/Desktop/alllc2/'+str(name)\n",
    "\n",
    "t,f,f_err,f_true,code = np.loadtxt(tempdata,usecols=(0,1,2,3,5),unpack=True)\n",
    "df = pd.DataFrame({'t':t , 'f':f , 'f_err' : f_err , 'f_true': f_true, 'code':code})\n",
    "df = df[df['code']==4]\n",
    "\n",
    "#df['f'] = df['f_true']\n",
    "\n",
    "fname = gzip.open(tempdata, 'rb')\n",
    "x_0 = fname.readlines()[0:7]\n",
    "f_s_true = x_0[0].split(' ')[4]\n",
    "q = x_0[5].split(' ')[5]\n",
    "s = x_0[5].split(' ')[6]\n",
    "tE_theo = x_0[6].split(' ')[4]\n",
    "t0_theo = x_0[6].split(' ')[3]\n",
    "u0_theo = x_0[6].split(' ')[1]\n",
    "\n"
   ]
  },
  {
   "cell_type": "code",
   "execution_count": 27,
   "metadata": {
    "collapsed": true
   },
   "outputs": [],
   "source": [
    "#u0_true = float(f_s_true)/(max(df['f'])-1+float(f_s_true))\n",
    "A_max = 1.0/(float(f_s_true)/(max(df['f'])-1+float(f_s_true)))\n",
    "u0_true = np.sqrt( ( (1+np.sqrt(1+16*(A_max**2)))/(2* A_max) ) - 2 )\n",
    "t0_true =  df['t'][df['f'].argmax()] #float(t0_theo)\n",
    "ind1, ind2 = fwhm(df['f'],df['f'].argmax(),min(df['f']))\n",
    "#tE_true = t[ind2]-t[ind1]\n",
    "tE_true = [tE_finder (df['t'],df[ 'f'], f_s_true),t[ind2]-t[ind1]]\n",
    "#print 'tE_true = '+ str( tE_true)\n",
    "\n",
    "tE_ = [[],[]]    \n",
    "for i in tE_true:\n",
    "               \n",
    "    nll = lambda *args: -lnlike(*args)\n",
    "    result = op.minimize(nll, [t0_true, u0_true, i,f_s_true], args=(df['t'],df[ 'f'], df['f_err']),method = 'Nelder-Mead')\n",
    "    t0_ml, u0_ml, tE_ml,f_s_ml = result['x']\n",
    "    tE_[0].append(lnlike([t0_ml, u0_ml, tE_ml,f_s_ml],df['t'],df[ 'f'], df['f_err']))\n",
    "    tE_[1].append([t0_ml, u0_ml, tE_ml,f_s_ml])\n",
    "            "
   ]
  },
  {
   "cell_type": "code",
   "execution_count": 28,
   "metadata": {
    "collapsed": true
   },
   "outputs": [],
   "source": [
    "#print tE_[1]\n",
    "mm = np.asarray( tE_[0])\n",
    "tE__ = tE_[1][mm.argmax()]\n",
    "\n",
    "t0_ml, u0_ml, tE_ml,f_s_ml = tE__[0],tE__[1],tE__[2],tE__[3]\n",
    "\n",
    "f_ris = df['f']-fun(t0_ml, u0_ml, tE_ml,f_s_ml)\n",
    "f_ris_true = df['f_true']-fun(t0_ml, u0_ml, tE_ml,f_s_ml)"
   ]
  },
  {
   "cell_type": "code",
   "execution_count": 29,
   "metadata": {
    "collapsed": true
   },
   "outputs": [],
   "source": [
    "#u0_true = float(f_s_true)/(max(df['f']-f_ris)-1+float(f_s_true))\n",
    "A_max = 1.0/(float(f_s_true)/(max(df['f']-f_ris)-1+float(f_s_true)))\n",
    "u0_true = np.sqrt( ( (1+np.sqrt(1+16*(A_max**2)))/(2* A_max) ) - 2 )\n",
    "t0_true = df['t'][(df['f']-f_ris).argmax()]\n",
    "\n",
    "#print 't0_true = ' + str(t0_true)\n",
    "        \n",
    "\n",
    "duration = [0.01,0.1,1]  \n",
    "\n",
    "cut = 100             \n",
    "# f_ris__ = [(f_ris[(df['t']>(float(t0_true)-cut))&(df['t']<(float(t0_true)+cut))]).max(),(f_ris[(df['t']>(float(t0_true)-cut))&(df['t']<(float(t0_true)+cut))]).min()]\n",
    "# t_ris__ =  [df['t'][(f_ris[(df['t']>(float(t0_true)-cut))&(df['t']<(float(t0_true)+cut))]).argmax()], df['t'][(f_ris[(df['t']>(float(t0_true)-cut))&(df['t']<(float(t0_true)+cut))]).argmin()]]  \n",
    "        \n",
    "f_residual = f_ris\n",
    "f_ris = smooth(f_ris,10)\n",
    "f_ris_true = smooth(f_ris_true,19)\n",
    "\n",
    "if u0_ml>0.7:\n",
    "    f_ris = smooth(f_ris,19)\n",
    "    f_ris_true = smooth(f_ris_true,19)\n",
    "\n",
    "f_ris__ = [f_ris.max(),f_ris.min()]\n",
    "t_ris__ = [np.asarray(df['t'])[f_ris.argmax()],np.asarray(df['t'])[f_ris.argmin()]]\n",
    "\n",
    "\n"
   ]
  },
  {
   "cell_type": "code",
   "execution_count": 30,
   "metadata": {
    "collapsed": true
   },
   "outputs": [],
   "source": [
    "min_model_ = [[],[]]\n",
    "\n",
    "for sigma in duration:\n",
    "            \n",
    "    for a in range(0,2):        \n",
    "        amp_ = f_ris__[a]\n",
    "        #print amp_\n",
    "        t_mean_ = t_ris__[a]\n",
    "        \n",
    "        \n",
    "        amp_ = amp_ * sigma * np.sqrt(2*pi)\n",
    "        #print 'sigma = '+str(sigma) + ', amp = '+ str(amp_)\n",
    "    \n",
    "        nll = lambda *args: -lnlike2(*args)\n",
    "        result = op.minimize(nll, [t_mean_,sigma,amp_,t0_ml, u0_ml, tE_ml,f_s_ml], args=(df['t'],df[ 'f'], df['f_err']),method = 'Nelder-Mead')\n",
    "        mean_mll, sigma_mll,amp_mll,t0_mll, u0_mll, tE_mll,f_s_mll = result['x']\n",
    "        #print result['x']\n",
    "        min_model_[0].append(lnlike2([mean_mll, sigma_mll,amp_mll,t0_mll, u0_mll, tE_mll,f_s_mll],df['t'],df[ 'f'], df['f_err']))\n",
    "        min_model_[1].append([mean_mll, sigma_mll,amp_mll,t0_mll, u0_mll, tE_mll,f_s_mll])\n",
    "\n",
    "\n",
    "mmm_ = np.asarray( min_model_[0])\n",
    "final_param = min_model_[1][mmm_.argmax()]       \n",
    "\n"
   ]
  },
  {
   "cell_type": "code",
   "execution_count": 31,
   "metadata": {
    "collapsed": true
   },
   "outputs": [],
   "source": [
    "x_c = np.sqrt((final_param[4]**2)+((final_param[3]-final_param[0])/final_param[5])**2 )\n",
    "\n",
    "if final_param[2] >0:\n",
    "    s_exp = (x_c+np.sqrt((x_c**2)+4))/2   \n",
    "elif final_param[2] <0:\n",
    "    s_exp = np.abs((x_c-np.sqrt((x_c**2)+4))/2)"
   ]
  },
  {
   "cell_type": "code",
   "execution_count": 32,
   "metadata": {
    "collapsed": true
   },
   "outputs": [],
   "source": [
    "del_t = round((np.sqrt(np.abs((float(s)-(1/float(s)))**2 - (float(u0_theo))**2))),2) * float(tE_theo)\n",
    "\n",
    "right = (round(float(t0_theo)+del_t,2))\n",
    "left = (round(float(t0_theo)-del_t,2))\n",
    "\n",
    "cell_text = [[round(float(t0_theo),2), round(final_param[3],2)] ,[round(np.abs(float((u0_theo))),2),round(final_param[4],2)],[round(float(tE_theo),3),round(final_param[5],3)],\n",
    "             [round(float(f_s_true),3), round(final_param[6],3)],[right, round(final_param[0],2)],\n",
    "            [round(np.sqrt(float(q))*float(tE_theo),4), round(np.abs(final_param[1]),4)],['Not Known', round(final_param[2],4)]]\n",
    "        \n",
    "rows = ('$t_0$','$u_0$','$t_E$','$f_s$','$t_p$','$t_{Ep}$','$a$')   \n",
    "columns = ('True\\n Values','Fitting\\n Result')\n",
    "\n",
    "           \n",
    "f_res_final = df['f']-fun2(final_param[0],final_param[1],final_param[2],final_param[3],final_param[4],final_param[5],final_param[6])                        \n",
    "          "
   ]
  },
  {
   "cell_type": "code",
   "execution_count": 38,
   "metadata": {
    "collapsed": true
   },
   "outputs": [],
   "source": [
    "chi_2 =  chisq([t0_ml, u0_ml, tE_ml,f_s_ml],df['t'],df[ 'f'], df['f_err'])\n",
    "N = np.arange(1,len(df['t'])+1)"
   ]
  },
  {
   "cell_type": "code",
   "execution_count": 45,
   "metadata": {
    "collapsed": false
   },
   "outputs": [
    {
     "data": {
      "text/plain": [
       "[<matplotlib.lines.Line2D at 0x11bc77b90>]"
      ]
     },
     "execution_count": 45,
     "metadata": {},
     "output_type": "execute_result"
    },
    {
     "data": {
      "image/png": "[encoded data removed]",
      "text/plain": [
       "<matplotlib.figure.Figure at 0x11337ce50>"
      ]
     },
     "metadata": {},
     "output_type": "display_data"
    }
   ],
   "source": [
    "%matplotlib inline\n",
    "plt.plot(df['t'],((chi_2)-N)/max((chi_2)-N),'b.')\n"
   ]
  },
  {
   "cell_type": "code",
   "execution_count": 47,
   "metadata": {
    "collapsed": false
   },
   "outputs": [
    {
     "data": {
      "text/plain": [
       "[<matplotlib.lines.Line2D at 0x11c5cd610>]"
      ]
     },
     "execution_count": 47,
     "metadata": {},
     "output_type": "execute_result"
    },
    {
     "data": {
      "image/png": "[encoded data removed]",
      "text/plain": [
       "<matplotlib.figure.Figure at 0x11337ced0>"
      ]
     },
     "metadata": {},
     "output_type": "display_data"
    }
   ],
   "source": [
    "plt.plot(df['t'],smooth(((chi_2)-N)/max((chi_2)-N),19),'b.')\n",
    "\n"
   ]
  },
  {
   "cell_type": "code",
   "execution_count": null,
   "metadata": {
    "collapsed": true
   },
   "outputs": [],
   "source": []
  },
  {
   "cell_type": "code",
   "execution_count": null,
   "metadata": {
    "collapsed": true
   },
   "outputs": [],
   "source": []
  }
 ],
 "metadata": {
  "kernelspec": {
   "display_name": "Python 2",
   "language": "python",
   "name": "python2"
  },
  "language_info": {
   "codemirror_mode": {
    "name": "ipython",
    "version": 2
   },
   "file_extension": ".py",
   "mimetype": "text/x-python",
   "name": "python",
   "nbconvert_exporter": "python",
   "pygments_lexer": "ipython2",
   "version": "2.7.11"
  }
 },
 "nbformat": 4,
 "nbformat_minor": 0
}
