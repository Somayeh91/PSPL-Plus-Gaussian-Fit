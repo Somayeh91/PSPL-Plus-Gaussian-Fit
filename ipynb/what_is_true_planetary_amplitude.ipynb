{
 "cells": [
  {
   "cell_type": "code",
   "execution_count": 92,
   "metadata": {
    "collapsed": true
   },
   "outputs": [],
   "source": [
    "import glob,os,sys\n",
    "import numpy as np\n",
    "import matplotlib.pyplot as plt\n",
    "import matplotlib\n",
    "from numpy import *\n",
    "import re\n",
    "import scipy.stats as st\n",
    "from os.path import expanduser\n",
    "import cmath\n",
    "import scipy.optimize as op\n",
    "import time\n",
    "import gzip\n",
    "import pandas as pd\n",
    "from mpl_toolkits.axes_grid1.inset_locator import zoomed_inset_axes\n",
    "from mpl_toolkits.axes_grid1.inset_locator import (mark_inset,inset_axes,InsetPosition)\n",
    "%matplotlib inline"
   ]
  },
  {
   "cell_type": "code",
   "execution_count": 93,
   "metadata": {
    "collapsed": true
   },
   "outputs": [],
   "source": [
    "home = os.path.expanduser(\"~\")\n",
    "\n",
    "direc = os.listdir(\".\")"
   ]
  },
  {
   "cell_type": "code",
   "execution_count": 94,
   "metadata": {
    "collapsed": true
   },
   "outputs": [],
   "source": [
    "def empty(df):\n",
    "    return len(df.index) == 0\n",
    "    \n",
    "def fwhm(valuelist, peakpos,base):\n",
    "    peakvalue = valuelist[peakpos]-base\n",
    "    phalf = (peakvalue / 2.0)+base\n",
    "\n",
    "    # go left and right, starting from peakpos\n",
    "    ind1 = peakpos\n",
    "    ind2 = peakpos   \n",
    "\n",
    "    while ind1>2 and valuelist[ind1]>phalf:\n",
    "        ind1=ind1-1\n",
    "    while ind2<len(valuelist)-1 and valuelist[ind2]>phalf:\n",
    "        ind2=ind2+1  \n",
    "    return ind1,ind2\n",
    "\n",
    "def tE_finder (t,f,f_s):\n",
    "    df = pd.DataFrame({'t' : t, 'f' : f})\n",
    "    \n",
    "    A_base = (float(f_s)*0.34)+1\n",
    "    \n",
    "    t_max = df['t'][df['f'].argmax()]\n",
    "    t_right = df['t'][df['t']>t_max]\n",
    "    t_left = df['t'][df['t']<t_max]\n",
    "    \n",
    "    if empty(t_right) == 'False':\n",
    "        tE_right = np.abs(t_right[(np.abs(df['f'][df['t']>t_max]-(A_base))).argmin()]-t_max)\n",
    "    else:\n",
    "        tE_right = 1000\n",
    "    if empty(t_left) == 'False':\n",
    "        tE_left = np.abs(t_left[(np.abs(df['f'][df['t']<t_max]-(A_base))).argmin()]-t_max)\n",
    "    else:\n",
    "        tE_left = 1000\n",
    "    \n",
    "    return min([tE_right,tE_left])\n",
    "\n",
    "def fun (t0,u0,tE,f_s):\n",
    "    u = np.sqrt(u0**2+((df['t']-t0)/tE)**2)\n",
    "    A = ((u**2)+2)/(u*np.sqrt(u**2+4))\n",
    "    return (f_s * (A-1)) +1\n",
    "        \n",
    "def fun2 (mean, sigma,amp, t0,u0,tE,f_s):\n",
    "    u = np.sqrt(u0**2+((df['t']-t0)/tE)**2)\n",
    "    A = (((amp/np.sqrt(2*pi*(sigma**2)))*np.exp(-((df['t']-mean)**2)/(2*(sigma**2)))))+((u**2)+2)/(u*np.sqrt((u**2)+4))\n",
    "    return (f_s * (A-1)) +1\n",
    "\n",
    "def lnlike(theta, t, f, f_err):\n",
    "    t0, u0, tE,f_s = theta\n",
    "    model = fun(t0, u0, tE,f_s)\n",
    "    inv_sigma2 = 1.0/(f_err**2)\n",
    "    return -0.5*(np.sum((f-model)**2*inv_sigma2))\n",
    "\n",
    "def lnlike2(theta, t, f, f_err):\n",
    "    mean, sigma,amp, t0,u0,tE,f_s = theta\n",
    "    model = fun2(mean, sigma,amp, t0,u0,tE,f_s)\n",
    "    inv_sigma2 = 1.0/(f_err**2)\n",
    "    return -0.5*(np.sum((f-model)**2*inv_sigma2))\n",
    "\n"
   ]
  },
  {
   "cell_type": "code",
   "execution_count": 95,
   "metadata": {
    "collapsed": false
   },
   "outputs": [],
   "source": [
    "name = 'cassan_18_123_294.det.lc.gz'  \n",
    "tempdata = home+'/Desktop/selected plots for paper/'+str(name)\n",
    "\n",
    "t,f,f_err,f_true,code = np.loadtxt(tempdata,usecols=(0,1,2,3,5),unpack=True)\n",
    "df = pd.DataFrame({'t':t , 'f':f , 'f_err' : f_err , 'f_true': f_true, 'code':code})\n",
    "df = df[df['code']==4]"
   ]
  },
  {
   "cell_type": "code",
   "execution_count": 96,
   "metadata": {
    "collapsed": false
   },
   "outputs": [
    {
     "data": {
      "text/plain": [
       "(250, 400)"
      ]
     },
     "execution_count": 96,
     "metadata": {},
     "output_type": "execute_result"
    },
    {
     "data": {
      "image/png": "[encoded data removed]",
      "text/plain": [
       "<matplotlib.figure.Figure at 0x1198c7910>"
      ]
     },
     "metadata": {},
     "output_type": "display_data"
    }
   ],
   "source": [
    "plt.plot(df['t'],df['f_true'],'b.')\n",
    "plt.xlim(250,400)"
   ]
  },
  {
   "cell_type": "code",
   "execution_count": 97,
   "metadata": {
    "collapsed": true
   },
   "outputs": [],
   "source": [
    "fname = gzip.open(tempdata, 'rb')\n",
    "x_0 = fname.readlines()[0:7]\n",
    "f_s_true = x_0[0].split(' ')[4]\n",
    "q = x_0[5].split(' ')[5]\n",
    "s = x_0[5].split(' ')[6]\n",
    "tE_theo = x_0[6].split(' ')[4]\n",
    "t0_theo = x_0[6].split(' ')[3]\n",
    "u0_theo = x_0[6].split(' ')[1]"
   ]
  },
  {
   "cell_type": "code",
   "execution_count": 98,
   "metadata": {
    "collapsed": false
   },
   "outputs": [],
   "source": [
    "A_max = 1.0/(float(f_s_true)/(max(df['f'])-1+float(f_s_true)))\n",
    "u0_true = np.sqrt( ( (1+np.sqrt(1+16*(A_max**2)))/(2* A_max) ) - 2 )\n",
    "t0_true =  df['t'][df['f'].argmax()] #float(t0_theo)\n",
    "ind1, ind2 = fwhm(df['f'],df['f'].argmax(),min(df['f']))\n",
    "#tE_true = t[ind2]-t[ind1]\n",
    "tE_true = [tE_finder (df['t'],df[ 'f'], f_s_true),t[ind2]-t[ind1]]"
   ]
  },
  {
   "cell_type": "code",
   "execution_count": 99,
   "metadata": {
    "collapsed": true
   },
   "outputs": [],
   "source": [
    "tE_ = [[],[]]    \n",
    "for i in tE_true:\n",
    "               \n",
    "    nll = lambda *args: -lnlike(*args)\n",
    "    result = op.minimize(nll, [t0_true, u0_true, i,f_s_true], args=(df['t'],df[ 'f'], df['f_err']),method = 'Nelder-Mead')\n",
    "    t0_ml, u0_ml, tE_ml,f_s_ml = result['x']\n",
    "    tE_[0].append(lnlike([t0_ml, u0_ml, tE_ml,f_s_ml],df['t'],df[ 'f'], df['f_err']))\n",
    "    tE_[1].append([t0_ml, u0_ml, tE_ml,f_s_ml])"
   ]
  },
  {
   "cell_type": "code",
   "execution_count": 100,
   "metadata": {
    "collapsed": true
   },
   "outputs": [],
   "source": [
    "mm = np.asarray( tE_[0])\n",
    "tE__ = tE_[1][mm.argmax()]\n",
    "\n",
    "t0_ml, u0_ml, tE_ml,f_s_ml = tE__[0],tE__[1],tE__[2],tE__[3]\n",
    "\n",
    "f_ris = df['f']-fun(t0_ml, u0_ml, tE_ml,f_s_ml)\n",
    "f_ris_true = df['f_true']-fun(t0_ml, u0_ml, tE_ml,f_s_ml)\n"
   ]
  },
  {
   "cell_type": "code",
   "execution_count": 101,
   "metadata": {
    "collapsed": true
   },
   "outputs": [],
   "source": [
    "A_max = 1.0/(float(f_s_true)/(max(df['f']-f_ris)-1+float(f_s_true)))\n",
    "u0_true = np.sqrt( ( (1+np.sqrt(1+16*(A_max**2)))/(2* A_max) ) - 2 )\n",
    "t0_true = df['t'][(df['f']-f_ris).argmax()]"
   ]
  },
  {
   "cell_type": "code",
   "execution_count": 102,
   "metadata": {
    "collapsed": true
   },
   "outputs": [],
   "source": [
    "duration = [0.01,0.1,1]  \n",
    "\n",
    "cut = 100\n",
    "    \n",
    "f_ris__ = [(f_ris[(df['t']>(float(t0_true)-cut))&(df['t']<(float(t0_true)+cut))]).max(),(f_ris[(df['t']>(float(t0_true)-cut))&(df['t']<(float(t0_true)+cut))]).min()]\n",
    "t_ris__ =  [df['t'][(f_ris[(df['t']>(float(t0_true)-cut))&(df['t']<(float(t0_true)+cut))]).argmax()], df['t'][(f_ris[(df['t']>(float(t0_true)-cut))&(df['t']<(float(t0_true)+cut))]).argmin()]] \n"
   ]
  },
  {
   "cell_type": "code",
   "execution_count": 103,
   "metadata": {
    "collapsed": false
   },
   "outputs": [
    {
     "data": {
      "text/plain": [
       "[0.26973142504960057, -0.08577115480762876]"
      ]
     },
     "execution_count": 103,
     "metadata": {},
     "output_type": "execute_result"
    }
   ],
   "source": [
    "f_ris__"
   ]
  },
  {
   "cell_type": "code",
   "execution_count": 104,
   "metadata": {
    "collapsed": true
   },
   "outputs": [],
   "source": [
    "min_model_ = [[],[]]\n",
    "\n",
    "for sigma in duration:\n",
    "            \n",
    "    for a in range(0,2):        \n",
    "        amp_ = f_ris__[a]\n",
    "        #print amp_\n",
    "        t_mean_ = t_ris__[a]\n",
    "        \n",
    "        \n",
    "        amp_ = amp_ * sigma * np.sqrt(2*pi)\n",
    "        #print 'sigma = '+str(sigma) + ', amp = '+ str(amp_)\n",
    "    \n",
    "        nll = lambda *args: -lnlike2(*args)\n",
    "        result = op.minimize(nll, [t_mean_,sigma,amp_,t0_ml, u0_ml, tE_ml,f_s_ml], args=(df['t'],df[ 'f'], df['f_err']),method = 'Nelder-Mead')\n",
    "        mean_mll, sigma_mll,amp_mll,t0_mll, u0_mll, tE_mll,f_s_mll = result['x']\n",
    "        #print result['x']\n",
    "        min_model_[0].append(lnlike2([mean_mll, sigma_mll,amp_mll,t0_mll, u0_mll, tE_mll,f_s_mll],df['t'],df[ 'f'], df['f_err']))\n",
    "        min_model_[1].append([mean_mll, sigma_mll,amp_mll,t0_mll, u0_mll, tE_mll,f_s_mll])\n"
   ]
  },
  {
   "cell_type": "code",
   "execution_count": 105,
   "metadata": {
    "collapsed": true
   },
   "outputs": [],
   "source": [
    "mmm_ = np.asarray( min_model_[0])\n",
    "final_param = min_model_[1][mmm_.argmax()]       \n"
   ]
  },
  {
   "cell_type": "code",
   "execution_count": 106,
   "metadata": {
    "collapsed": false
   },
   "outputs": [
    {
     "data": {
      "text/plain": [
       "[352.9417837982651,\n",
       " 0.2270300073693184,\n",
       " 1.0052131721146154,\n",
       " 349.48055412953335,\n",
       " 0.07060486451904241,\n",
       " 44.85598217601512,\n",
       " 0.13744989448879294]"
      ]
     },
     "execution_count": 106,
     "metadata": {},
     "output_type": "execute_result"
    }
   ],
   "source": [
    "final_param"
   ]
  },
  {
   "cell_type": "code",
   "execution_count": 107,
   "metadata": {
    "collapsed": true
   },
   "outputs": [],
   "source": [
    "A_max = 1.0/(float(f_s_true)/(max(df['f_true'])-1+float(f_s_true)))\n",
    "u0_true = np.sqrt( ( (1+np.sqrt(1+16*(A_max**2)))/(2* A_max) ) - 2 )\n",
    "t0_true =  df['t'][df['f_true'].argmax()] #float(t0_theo)\n",
    "ind1, ind2 = fwhm(df['f_true'],df['f_true'].argmax(),min(df['f_true']))\n",
    "#tE_true = t[ind2]-t[ind1]\n",
    "tE_true = [tE_finder (df['t'],df[ 'f_true'], f_s_true),t[ind2]-t[ind1]]"
   ]
  },
  {
   "cell_type": "code",
   "execution_count": 108,
   "metadata": {
    "collapsed": true
   },
   "outputs": [],
   "source": [
    "tE_ = [[],[]]    \n",
    "for i in tE_true:\n",
    "               \n",
    "    nll = lambda *args: -lnlike(*args)\n",
    "    result = op.minimize(nll, [t0_true, u0_true, i,f_s_true], args=(df['t'],df[ 'f_true'], df['f_err']),method = 'Nelder-Mead')\n",
    "    t0_ml, u0_ml, tE_ml,f_s_ml = result['x']\n",
    "    tE_[0].append(lnlike([t0_ml, u0_ml, tE_ml,f_s_ml],df['t'],df[ 'f_true'], df['f_err']))\n",
    "    tE_[1].append([t0_ml, u0_ml, tE_ml,f_s_ml])"
   ]
  },
  {
   "cell_type": "code",
   "execution_count": 109,
   "metadata": {
    "collapsed": true
   },
   "outputs": [],
   "source": [
    "mm = np.asarray( tE_[0])\n",
    "tE__ = tE_[1][mm.argmax()]\n",
    "\n",
    "t0_ml, u0_ml, tE_ml,f_s_ml = tE__[0],tE__[1],tE__[2],tE__[3]\n",
    "\n",
    "#f_ris = df['f']-fun(t0_ml, u0_ml, tE_ml,f_s_ml)\n",
    "f_ris_true = df['f_true']-fun(t0_ml, u0_ml, tE_ml,f_s_ml)"
   ]
  },
  {
   "cell_type": "code",
   "execution_count": 119,
   "metadata": {
    "collapsed": false
   },
   "outputs": [
    {
     "data": {
      "text/plain": [
       "[<matplotlib.lines.Line2D at 0x11a342e10>]"
      ]
     },
     "execution_count": 119,
     "metadata": {},
     "output_type": "execute_result"
    },
    {
     "data": {
      "image/png": "[encoded data removed]",
      "text/plain": [
       "<matplotlib.figure.Figure at 0x11a73a710>"
      ]
     },
     "metadata": {},
     "output_type": "display_data"
    }
   ],
   "source": [
    "plt.plot(df['t'],f_ris_true,'r.')\n",
    "#plt.xlim(492,496)"
   ]
  },
  {
   "cell_type": "code",
   "execution_count": 111,
   "metadata": {
    "collapsed": false
   },
   "outputs": [
    {
     "name": "stdout",
     "output_type": "stream",
     "text": [
      "352.93386574 0.2319992931944137\n",
      "351.91002315 -0.032403992718671226\n"
     ]
    }
   ],
   "source": [
    "print df['t'][f_ris_true.argmax()], max(f_ris_true)\n",
    "print df['t'][f_ris_true.argmin()], min(f_ris_true)"
   ]
  },
  {
   "cell_type": "code",
   "execution_count": 112,
   "metadata": {
    "collapsed": false
   },
   "outputs": [
    {
     "data": {
      "text/plain": [
       "(492, 496)"
      ]
     },
     "execution_count": 112,
     "metadata": {},
     "output_type": "execute_result"
    },
    {
     "data": {
      "image/png": "[encoded data removed]",
      "text/plain": [
       "<matplotlib.figure.Figure at 0x118cfbd90>"
      ]
     },
     "metadata": {},
     "output_type": "display_data"
    }
   ],
   "source": [
    "plt.plot(df['t'],f_ris,'r.')\n",
    "plt.xlim(492,496)"
   ]
  },
  {
   "cell_type": "code",
   "execution_count": 123,
   "metadata": {
    "collapsed": true
   },
   "outputs": [],
   "source": [
    "def fun3 (mean, sigma,amp,f_s):\n",
    "    A = (((amp/np.sqrt(2*pi*(sigma**2)))*np.exp(-((df['t']-mean)**2)/(2*(sigma**2)))))\n",
    "    return (f_s * (A-1)) +1\n",
    "\n",
    "def lnlike3(theta, t, f, f_err):\n",
    "    mean, sigma,amp,f_s = theta\n",
    "    model = fun3(mean, sigma,amp,f_s)\n",
    "    inv_sigma2 = 1.0/(f_err**2)\n",
    "    return (np.sum((f-model)**2*inv_sigma2))\n",
    "\n",
    "\n"
   ]
  },
  {
   "cell_type": "code",
   "execution_count": 125,
   "metadata": {
    "collapsed": false
   },
   "outputs": [],
   "source": [
    "min_model_ = [[],[]]\n",
    "\n",
    "for sigma in duration:\n",
    "            \n",
    "            \n",
    "    amp_ = max(f_ris_true)\n",
    "    #print amp_        \n",
    "    t_mean_ = df['t'][f_ris_true.argmax()]\n",
    "        \n",
    "        \n",
    "    amp_ = amp_ * sigma * np.sqrt(2*pi)\n",
    "    #print 'sigma = '+str(sigma) + ', amp = '+ str(amp_)\n",
    "    \n",
    "    nll = lambda *args: lnlike3(*args)\n",
    "    result = op.minimize(nll, [t_mean_,sigma,amp_,f_s_ml], args=(df['t'],f_ris_true, df['f_err']),method = 'Nelder-Mead')\n",
    "    mean_mll, sigma_mll,amp_mll,f_s_mll = result['x']\n",
    "    #print result['x']\n",
    "    min_model_[0].append(lnlike3([mean_mll, sigma_mll,amp_mll,f_s_mll],df['t'],f_ris_true, df['f_err']))\n",
    "    min_model_[1].append([mean_mll, sigma_mll,amp_mll,f_s_mll])\n",
    "\n"
   ]
  },
  {
   "cell_type": "code",
   "execution_count": 126,
   "metadata": {
    "collapsed": true
   },
   "outputs": [],
   "source": [
    "mmm_ = np.asarray( min_model_[0])\n",
    "final_param = min_model_[1][mmm_.argmax()]  "
   ]
  },
  {
   "cell_type": "code",
   "execution_count": 127,
   "metadata": {
    "collapsed": false
   },
   "outputs": [
    {
     "data": {
      "text/plain": [
       "[689.7266971234592,\n",
       " -0.02739801817839874,\n",
       " -0.015731457942932747,\n",
       " 0.9999557129292307]"
      ]
     },
     "execution_count": 127,
     "metadata": {},
     "output_type": "execute_result"
    }
   ],
   "source": [
    "final_param"
   ]
  },
  {
   "cell_type": "code",
   "execution_count": null,
   "metadata": {
    "collapsed": true
   },
   "outputs": [],
   "source": []
  }
 ],
 "metadata": {
  "kernelspec": {
   "display_name": "Python 2",
   "language": "python",
   "name": "python2"
  },
  "language_info": {
   "codemirror_mode": {
    "name": "ipython",
    "version": 2
   },
   "file_extension": ".py",
   "mimetype": "text/x-python",
   "name": "python",
   "nbconvert_exporter": "python",
   "pygments_lexer": "ipython2",
   "version": "2.7.13"
  }
 },
 "nbformat": 4,
 "nbformat_minor": 2
}
