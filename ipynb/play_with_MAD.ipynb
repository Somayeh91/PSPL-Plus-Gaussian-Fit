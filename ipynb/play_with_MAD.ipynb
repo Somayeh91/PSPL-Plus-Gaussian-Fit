{
 "cells": [
  {
   "cell_type": "code",
   "execution_count": 62,
   "metadata": {
    "collapsed": true
   },
   "outputs": [],
   "source": [
    "import glob,os,sys\n",
    "import numpy as np\n",
    "import matplotlib.pyplot as plt\n",
    "import matplotlib as mat\n",
    "from numpy import *\n",
    "import re\n",
    "import scipy.stats as st\n",
    "from os.path import expanduser\n",
    "import cmath\n",
    "import scipy.optimize as op\n",
    "import time\n",
    "import gzip\n",
    "import pandas as pd\n",
    "%matplotlib inline"
   ]
  },
  {
   "cell_type": "code",
   "execution_count": 63,
   "metadata": {
    "collapsed": true
   },
   "outputs": [],
   "source": [
    "def med_med (x):\n",
    "    temp = x\n",
    "    return (np.median(np.abs(temp-np.median(temp))))\n",
    "\n",
    "def med_med_weight (x,weight):\n",
    "    temp = x\n",
    "    w = weight/np.sum(weight)\n",
    "    return (np.median(weight*np.abs(temp-np.median(temp))))\n",
    "\n",
    "def mean_mean(x):\n",
    "    temp = x\n",
    "    return (np.mean(np.abs(temp-np.mean(temp))))\n",
    "\n",
    "def rms (x):\n",
    "    temp = np.asarray(x)\n",
    "    return np.sqrt((np.sum(temp**2))/len(temp))\n",
    "    \n",
    "start = time.time()\n",
    "\n",
    "home = os.path.expanduser(\"~\")\n",
    "\n",
    "direc = os.listdir(\".\")"
   ]
  },
  {
   "cell_type": "code",
   "execution_count": 64,
   "metadata": {
    "collapsed": true
   },
   "outputs": [],
   "source": [
    "name = 'alllc_full_info_w_smoothing.CSV'  \n",
    "#Library/Mobile Documents/com~apple~CloudDocs/Microlensing/OSU trip/Matt/result_file/\n",
    "tempdata = home+'/Desktop/trial_runs/'+str(name)\n",
    "#&((df['f_s_true']*( (2 + df['u0_true']**2) / (df['u0_true']*np.sqrt(4 + df['u0_true']**2)) ) + (1-df['f_s_true']) )>1.5) & (df['u0_true']>0.1)\n",
    "df = pd.read_csv(tempdata)\n",
    "\n",
    "df['u0_true'] = np.abs(df['u0_true'])\n",
    "df['u0_fitted'] = np.abs(df['u0_fitted'])"
   ]
  },
  {
   "cell_type": "code",
   "execution_count": 65,
   "metadata": {
    "collapsed": true
   },
   "outputs": [],
   "source": [
    "red_chi_2_1 = np.abs(2*df['chi_2_1'])\n",
    "red_chi_2_2 = np.abs(2*df['chi_2_2'])"
   ]
  },
  {
   "cell_type": "code",
   "execution_count": 66,
   "metadata": {
    "collapsed": true
   },
   "outputs": [],
   "source": [
    "name = 'double-peaked.csv'  \n",
    "#Library/Mobile Documents/com~apple~CloudDocs/Microlensing/OSU trip/Matt/result_file/\n",
    "tempdata2 = home+'/Desktop/trial_runs/'+str(name)\n",
    "#&((df['f_s_true']*( (2 + df['u0_true']**2) / (df['u0_true']*np.sqrt(4 + df['u0_true']**2)) ) + (1-df['f_s_true']) )>1.5) & (df['u0_true']>0.1)\n",
    "dd = pd.read_csv(tempdata2)"
   ]
  },
  {
   "cell_type": "code",
   "execution_count": 67,
   "metadata": {
    "collapsed": false
   },
   "outputs": [
    {
     "name": "stdout",
     "output_type": "stream",
     "text": [
      "done\n"
     ]
    }
   ],
   "source": [
    "df_new_test = df\n",
    "df = df.reset_index()\n",
    "for i in range(len(df)):\n",
    "    if df['name'][i] in np.asarray(dd['name']):\n",
    "        #print i\n",
    "        df = df.drop([i], axis=0)\n",
    "print 'done'"
   ]
  },
  {
   "cell_type": "code",
   "execution_count": 68,
   "metadata": {
    "collapsed": false
   },
   "outputs": [
    {
     "name": "stdout",
     "output_type": "stream",
     "text": [
      "12314\n",
      "6080\n"
     ]
    },
    {
     "name": "stderr",
     "output_type": "stream",
     "text": [
      "/Users/Research/Library/Enthought/Canopy_64bit/User/lib/python2.7/site-packages/ipykernel/__main__.py:5: SettingWithCopyWarning: \n",
      "A value is trying to be set on a copy of a slice from a DataFrame\n",
      "\n",
      "See the caveats in the documentation: http://pandas.pydata.org/pandas-docs/stable/indexing.html#indexing-view-versus-copy\n",
      "/Users/Research/Library/Enthought/Canopy_64bit/User/lib/python2.7/site-packages/ipykernel/__main__.py:6: SettingWithCopyWarning: \n",
      "A value is trying to be set on a copy of a slice from a DataFrame\n",
      "\n",
      "See the caveats in the documentation: http://pandas.pydata.org/pandas-docs/stable/indexing.html#indexing-view-versus-copy\n",
      "/Users/Research/Library/Enthought/Canopy_64bit/User/lib/python2.7/site-packages/ipykernel/__main__.py:8: UserWarning: Boolean Series key will be reindexed to match DataFrame index.\n"
     ]
    }
   ],
   "source": [
    "print len(df)\n",
    "#df = df[ (df['chi_2_2']>-25000) & (df['s_fitted']<5) & ((df['f_s_true']*( (2 + df['u0_true']**2) / (df['u0_true']*np.sqrt(4 + df['u0_true']**2)) ) + (1-df['f_s_true']) )>1.1)]\n",
    "#df = df[(np.abs(df['t0_fitted']-df['tp_fitted'])>1) & ((-2*df['chi_2_2']/41039)>1.003) ]\n",
    "df_org = df\n",
    "df['q_fitted_log'][df['q_fitted_log']>0] = np.log10( 1/df['q_fitted'][df['q_fitted_log']>0] )\n",
    "df['q_fitted'][df['q_fitted_log']>0] = ( 1/df['q_fitted'][df['q_fitted_log']>0] )\n",
    "\n",
    "df = df[((red_chi_2_1-red_chi_2_2)>160)]\n",
    "print (len(df))\n",
    "\n"
   ]
  },
  {
   "cell_type": "code",
   "execution_count": 69,
   "metadata": {
    "collapsed": false
   },
   "outputs": [
    {
     "name": "stdout",
     "output_type": "stream",
     "text": [
      "4960\n"
     ]
    }
   ],
   "source": [
    "df = df[np.abs(df['u0_fitted'])>0.045] #02/20/2018\n",
    "\n",
    "print(len(df))"
   ]
  },
  {
   "cell_type": "code",
   "execution_count": 70,
   "metadata": {
    "collapsed": false
   },
   "outputs": [
    {
     "data": {
      "text/plain": [
       "4659"
      ]
     },
     "execution_count": 70,
     "metadata": {},
     "output_type": "execute_result"
    }
   ],
   "source": [
    "df = df[df['s_fitted']<5]\n",
    "len(df)"
   ]
  },
  {
   "cell_type": "code",
   "execution_count": 71,
   "metadata": {
    "collapsed": true
   },
   "outputs": [],
   "source": [
    "df['tEp_true_2'] = df['tE_true']*np.sqrt(df['q_true'] + (df['rho']**2))\n",
    "df['tEp_fitted_2'] = df['tEp_fitted']"
   ]
  },
  {
   "cell_type": "markdown",
   "metadata": {},
   "source": [
    "# Find MAD for different regimes of S"
   ]
  },
  {
   "cell_type": "code",
   "execution_count": 11,
   "metadata": {
    "collapsed": true
   },
   "outputs": [],
   "source": [
    "# Absolute deviation from median for regin s_true>1 and s_fitted>1\n",
    "x1 = np.abs((df['s_true'][(df['s_true']>1)&(df['s_fitted']>1)]-df['s_fitted'][(df['s_true']>1)&(df['s_fitted']>1)]) - \n",
    "           np.median(df['s_true'][(df['s_true']>1)&(df['s_fitted']>1)]-df['s_fitted'][(df['s_true']>1)&(df['s_fitted']>1)]))\n",
    "\n",
    "# Absolute deviation from median for regin s_true<1 and s_fitted>1\n",
    "x2 = np.abs( (1.0/df['s_true'][(df['s_true']<1)&(df['s_fitted']>1)]-df['s_fitted'][(df['s_true']<1)&(df['s_fitted']>1)]) - \n",
    "            np.median (1.0/df['s_true'][(df['s_true']<1)&(df['s_fitted']>1)]-df['s_fitted'][(df['s_true']<1)&(df['s_fitted']>1)]))\n",
    "\n",
    "# Absolute deviation from median for regin s_true>1 and s_fitted<1\n",
    "x3 = np.abs( (1.0/df['s_true'][(df['s_true']>1)&(df['s_fitted']<1)]-df['s_fitted'][(df['s_true']>1)&(df['s_fitted']<1)]) - \n",
    "            np.median (1.0/df['s_true'][(df['s_true']>1)&(df['s_fitted']<1)]-df['s_fitted'][(df['s_true']>1)&(df['s_fitted']<1)]))\n",
    "\n",
    "# Absolute deviation from median for regin s_true<1 and s_fitted<1\n",
    "x4 = np.abs( (df['s_true'][(df['s_true']<1)&(df['s_fitted']<1)]-df['s_fitted'][(df['s_true']<1)&(df['s_fitted']<1)]) - \n",
    "            np.median (df['s_true'][(df['s_true']<1)&(df['s_fitted']<1)]-df['s_fitted'][(df['s_true']<1)&(df['s_fitted']<1)]))\n"
   ]
  },
  {
   "cell_type": "code",
   "execution_count": 12,
   "metadata": {
    "collapsed": true
   },
   "outputs": [],
   "source": [
    "# Merging all above lists. a is absolute deviation from median for all targets with respect to their own distributions\n",
    "frames1 = [x1,x4]\n",
    "a = pd.concat(frames1)"
   ]
  },
  {
   "cell_type": "code",
   "execution_count": 13,
   "metadata": {
    "collapsed": false
   },
   "outputs": [
    {
     "name": "stdout",
     "output_type": "stream",
     "text": [
      "MAD of region 1: 0.12069921095500002\n",
      "MAD of region 2: 0.14041562027194188\n",
      "MAD of region 3: 0.09578632300959\n",
      "MAD of region 4: 0.05110789756000003\n",
      "MAD of all: 0.082222830455\n"
     ]
    }
   ],
   "source": [
    "print 'MAD of region 1: '+str(np.median(x1))\n",
    "print 'MAD of region 2: '+str(np.median(x2))\n",
    "print 'MAD of region 3: '+str(np.median(x3))\n",
    "print 'MAD of region 4: '+str(np.median(x4))\n",
    "print 'MAD of all: '+str(np.median(a))"
   ]
  },
  {
   "cell_type": "code",
   "execution_count": 14,
   "metadata": {
    "collapsed": true
   },
   "outputs": [],
   "source": [
    "# Absolute deviation from median for region s_true>1 and s_fitted>1\n",
    "x1 = df[(df['s_true']>1)&(df['s_fitted']>1)]\n",
    "\n",
    "# Absolute deviation from median for region s_true<1 and s_fitted>1\n",
    "x2 = df[(df['s_true']<1)&(df['s_fitted']>1)]\n",
    "\n",
    "# Absolute deviation from median for region s_true>1 and s_fitted<1\n",
    "x3 = df[(df['s_true']>1)&(df['s_fitted']<1)]\n",
    "\n",
    "# Absolute deviation from median for region s_true<1 and s_fitted<1\n",
    "x4 = df[(df['s_true']<1)&(df['s_fitted']<1)]\n"
   ]
  },
  {
   "cell_type": "code",
   "execution_count": 15,
   "metadata": {
    "collapsed": false
   },
   "outputs": [
    {
     "data": {
      "text/plain": [
       "[<matplotlib.lines.Line2D at 0x10393e110>]"
      ]
     },
     "execution_count": 15,
     "metadata": {},
     "output_type": "execute_result"
    },
    {
     "data": {
      "image/png": "[encoded data removed]",
      "text/plain": [
       "<matplotlib.figure.Figure at 0x112423250>"
      ]
     },
     "metadata": {},
     "output_type": "display_data"
    }
   ],
   "source": [
    "#Looking at deviations in fitted s for regions of 1/x line\n",
    "plt.plot(x2['s_fitted'],(((1.0/x2['s_true'])-x2['s_fitted']) ), 'b.')#(1.0/x2['s_true'])-x2['s_fitted']) - np.median\n",
    "plt.plot(x3['s_fitted'],(((1.0/x3['s_true'])-x3['s_fitted']) ), 'r.')\n",
    "#plt.yscale('log')"
   ]
  },
  {
   "cell_type": "code",
   "execution_count": 16,
   "metadata": {
    "collapsed": false
   },
   "outputs": [
    {
     "data": {
      "image/png": "[encoded data removed]",
      "text/plain": [
       "<matplotlib.figure.Figure at 0x1039f6a10>"
      ]
     },
     "metadata": {},
     "output_type": "display_data"
    }
   ],
   "source": [
    "# Looking at deviations in fitted s for regions excluding the 1/x line\n",
    "plt.plot(x1['s_fitted'],(((x1['s_true'])-x1['s_fitted']) ), 'b.')#(1.0/x2['s_true'])-x2['s_fitted']) - np.median\n",
    "plt.plot(x4['s_fitted'],(((x4['s_true'])-x4['s_fitted']) ), 'r.')\n",
    "plt.yscale('log')"
   ]
  },
  {
   "cell_type": "markdown",
   "metadata": {},
   "source": [
    "# Looking at weighted MADs"
   ]
  },
  {
   "cell_type": "code",
   "execution_count": 17,
   "metadata": {
    "collapsed": true
   },
   "outputs": [],
   "source": [
    "x_i = df['s_fitted']-df['s_true']"
   ]
  },
  {
   "cell_type": "code",
   "execution_count": 18,
   "metadata": {
    "collapsed": true
   },
   "outputs": [],
   "source": [
    "G = 6.67e-11\n",
    "m_sun = 1.989e30\n",
    "kpc = 3.086e19\n",
    "c = 2.99e8\n",
    "const = 4*(G*m_sun)/(kpc*(c**2))\n",
    "d_rel = (df['D_l']*df['D_s'])/(df['D_s']-df['D_l'])\n",
    "df['theta_E'] = np.sqrt(df['m_l']*const / d_rel)"
   ]
  },
  {
   "cell_type": "code",
   "execution_count": 19,
   "metadata": {
    "collapsed": true
   },
   "outputs": [],
   "source": [
    "df['weight'] = np.sqrt((df['mu_s_b']-df['mu_l_b'])**2 + (df['mu_s_l']-df['mu_l_l'])**2)*df['theta_E']"
   ]
  },
  {
   "cell_type": "code",
   "execution_count": 20,
   "metadata": {
    "collapsed": false
   },
   "outputs": [
    {
     "name": "stdout",
     "output_type": "stream",
     "text": [
      "4.100469750001334e-05\n",
      "38.505037865967495\n"
     ]
    }
   ],
   "source": [
    "print min(np.abs(x_i - np.median(x_i)))\n",
    "print max(np.abs(x_i - np.median(x_i)))"
   ]
  },
  {
   "cell_type": "code",
   "execution_count": 21,
   "metadata": {
    "collapsed": false
   },
   "outputs": [
    {
     "data": {
      "image/png": "[encoded data removed]",
      "text/plain": [
       "<matplotlib.figure.Figure at 0x1021e3c10>"
      ]
     },
     "metadata": {},
     "output_type": "display_data"
    }
   ],
   "source": [
    "plt.hist(np.abs(x_i - np.median(x_i)),bins=np.logspace(np.log10(4.1e-05),np.log10(40),50))\n",
    "plt.xscale('log')\n",
    "\n",
    "plt.title('$|x_i - median(x_i)|$',size=25)\n",
    "\n",
    "f = plt.gcf()\n",
    "f.set_size_inches(15.0,7)"
   ]
  },
  {
   "cell_type": "code",
   "execution_count": 22,
   "metadata": {
    "collapsed": false
   },
   "outputs": [
    {
     "data": {
      "image/png": "[encoded data removed]",
      "text/plain": [
       "<matplotlib.figure.Figure at 0x113dffa50>"
      ]
     },
     "metadata": {},
     "output_type": "display_data"
    }
   ],
   "source": [
    "plt.hist(df['weight'],bins=np.logspace(np.log10(3.5e-08),np.log10(3.2e-07),50))\n",
    "plt.xscale('log')\n",
    "plt.title('$w_i$',size=25)\n",
    "plt.axvline(x=np.median(df['weight']),color='k')\n",
    "plt.axvline(x=np.mean(df['weight']),color='r')\n",
    "\n",
    "\n",
    "f = plt.gcf()\n",
    "f.set_size_inches(15.0,7)"
   ]
  },
  {
   "cell_type": "code",
   "execution_count": 23,
   "metadata": {
    "collapsed": false
   },
   "outputs": [
    {
     "data": {
      "image/png": "[encoded data removed]",
      "text/plain": [
       "<matplotlib.figure.Figure at 0x1123f9d50>"
      ]
     },
     "metadata": {},
     "output_type": "display_data"
    }
   ],
   "source": [
    "plt.hist((df['weight']/np.median(df['weight'])),bins=np.logspace(np.log10(0.3),np.log10(4),50))\n",
    "plt.xscale('log')\n",
    "plt.title('$w_i / median(w_i) $',size=25)\n",
    "\n",
    "f = plt.gcf()\n",
    "f.set_size_inches(15.0,7)"
   ]
  },
  {
   "cell_type": "code",
   "execution_count": 24,
   "metadata": {
    "collapsed": false
   },
   "outputs": [
    {
     "data": {
      "image/png": "[encoded data removed]",
      "text/plain": [
       "<matplotlib.figure.Figure at 0x1123f9690>"
      ]
     },
     "metadata": {},
     "output_type": "display_data"
    }
   ],
   "source": [
    "plt.hist((df['weight']/np.mean(df['weight'])),bins=np.logspace(np.log10(0.3),np.log10(4),50))\n",
    "plt.xscale('log')\n",
    "plt.title('$w_i / mean(w_i) $',size=25)\n",
    "\n",
    "f = plt.gcf()\n",
    "f.set_size_inches(15.0,7)"
   ]
  },
  {
   "cell_type": "code",
   "execution_count": 25,
   "metadata": {
    "collapsed": false
   },
   "outputs": [
    {
     "data": {
      "text/plain": [
       "2.1163352371116925e-06"
      ]
     },
     "execution_count": 25,
     "metadata": {},
     "output_type": "execute_result"
    }
   ],
   "source": [
    "max(df['weight']*np.abs(x_i - np.median(x_i)))"
   ]
  },
  {
   "cell_type": "code",
   "execution_count": 26,
   "metadata": {
    "collapsed": false
   },
   "outputs": [
    {
     "data": {
      "text/plain": [
       "3.2289140348675e-12"
      ]
     },
     "execution_count": 26,
     "metadata": {},
     "output_type": "execute_result"
    }
   ],
   "source": [
    "min(df['weight']*np.abs(x_i - np.median(x_i)))"
   ]
  },
  {
   "cell_type": "code",
   "execution_count": 27,
   "metadata": {
    "collapsed": false
   },
   "outputs": [
    {
     "data": {
      "image/png": "[encoded data removed]",
      "text/plain": [
       "<matplotlib.figure.Figure at 0x1153d5d50>"
      ]
     },
     "metadata": {},
     "output_type": "display_data"
    }
   ],
   "source": [
    "plt.hist(df['weight']*np.abs(x_i - np.median(x_i)),bins=np.logspace(np.log10(3.2e-12),np.log10(2.2e-06),50))\n",
    "plt.xscale('log')\n",
    "plt.title(r'$w_i \\times |x_i - median(x_i)|$',size=25)\n",
    "\n",
    "f = plt.gcf()\n",
    "f.set_size_inches(15.0,7)\n",
    "\n"
   ]
  },
  {
   "cell_type": "code",
   "execution_count": 28,
   "metadata": {
    "collapsed": false
   },
   "outputs": [
    {
     "data": {
      "text/plain": [
       "0.003174663236932864"
      ]
     },
     "execution_count": 28,
     "metadata": {},
     "output_type": "execute_result"
    }
   ],
   "source": [
    "max((df['weight']*np.abs(x_i - np.median(x_i)))/np.sum(df['weight']))"
   ]
  },
  {
   "cell_type": "code",
   "execution_count": 29,
   "metadata": {
    "collapsed": false
   },
   "outputs": [
    {
     "data": {
      "text/plain": [
       "4.843615747616745e-09"
      ]
     },
     "execution_count": 29,
     "metadata": {},
     "output_type": "execute_result"
    }
   ],
   "source": [
    "min((df['weight']*np.abs(x_i - np.median(x_i)))/np.sum(df['weight']))"
   ]
  },
  {
   "cell_type": "code",
   "execution_count": 30,
   "metadata": {
    "collapsed": false
   },
   "outputs": [
    {
     "data": {
      "image/png": "[encoded data removed]",
      "text/plain": [
       "<matplotlib.figure.Figure at 0x11590a390>"
      ]
     },
     "metadata": {},
     "output_type": "display_data"
    }
   ],
   "source": [
    "plt.hist((df['weight']*np.abs(x_i - np.median(x_i)))/np.sum(df['weight']),bins=np.logspace(np.log10(4.4e-9),np.log10(0.004),50))\n",
    "plt.xscale('log')\n",
    "plt.title(r'$w_i \\times  |x_i - median(x_i)|/{\\sum w_i}$',size=25)\n",
    "\n",
    "f = plt.gcf()\n",
    "f.set_size_inches(15.0,7)"
   ]
  },
  {
   "cell_type": "code",
   "execution_count": 31,
   "metadata": {
    "collapsed": false
   },
   "outputs": [
    {
     "data": {
      "text/plain": [
       "0.003177369922727713"
      ]
     },
     "execution_count": 31,
     "metadata": {},
     "output_type": "execute_result"
    }
   ],
   "source": [
    "max((df['weight']*np.abs(x_i - np.mean(x_i)))/np.sum(df['weight']))"
   ]
  },
  {
   "cell_type": "code",
   "execution_count": 32,
   "metadata": {
    "collapsed": false
   },
   "outputs": [
    {
     "data": {
      "text/plain": [
       "7.159881449912576e-10"
      ]
     },
     "execution_count": 32,
     "metadata": {},
     "output_type": "execute_result"
    }
   ],
   "source": [
    "min((df['weight']*np.abs(x_i - np.mean(x_i)))/np.sum(df['weight']))"
   ]
  },
  {
   "cell_type": "code",
   "execution_count": 33,
   "metadata": {
    "collapsed": false
   },
   "outputs": [
    {
     "data": {
      "image/png": "[encoded data removed]",
      "text/plain": [
       "<matplotlib.figure.Figure at 0x112cb8e50>"
      ]
     },
     "metadata": {},
     "output_type": "display_data"
    }
   ],
   "source": [
    "plt.hist((df['weight']*np.abs(x_i - np.mean(x_i)))/np.sum(df['weight']),bins=np.logspace(np.log10(7e-10),np.log10(0.004),50))\n",
    "plt.xscale('log')\n",
    "plt.title(r'${w_i \\times|x_i - mean(x_i)|}/{\\sum w_i}$',size=25)\n",
    "\n",
    "f = plt.gcf()\n",
    "f.set_size_inches(15.0,7)"
   ]
  },
  {
   "cell_type": "code",
   "execution_count": 34,
   "metadata": {
    "collapsed": false
   },
   "outputs": [
    {
     "data": {
      "text/plain": [
       "1.7893406392772854e-05"
      ]
     },
     "execution_count": 34,
     "metadata": {},
     "output_type": "execute_result"
    }
   ],
   "source": [
    "np.median((df['weight']*np.abs(x_i - np.median(x_i)))/np.sum(df['weight']))"
   ]
  },
  {
   "cell_type": "code",
   "execution_count": 35,
   "metadata": {
    "collapsed": false
   },
   "outputs": [
    {
     "data": {
      "text/plain": [
       "5.757586918898811e-05"
      ]
     },
     "execution_count": 35,
     "metadata": {},
     "output_type": "execute_result"
    }
   ],
   "source": [
    "np.mean((df['weight']*np.abs(x_i - np.mean(x_i)))/np.sum(df['weight']))"
   ]
  },
  {
   "cell_type": "code",
   "execution_count": 36,
   "metadata": {
    "collapsed": false
   },
   "outputs": [
    {
     "data": {
      "image/png": "[encoded data removed]",
      "text/plain": [
       "<matplotlib.figure.Figure at 0x1149c0150>"
      ]
     },
     "metadata": {},
     "output_type": "display_data"
    }
   ],
   "source": [
    "plt.hist((df['weight']/np.median(df['weight'])),bins=np.logspace(np.log10(0.3),np.log10(4),50))\n",
    "plt.xscale('log')\n",
    "plt.title(r'${w_i \\times|x_i - median(x_i)|}/{\\sum w_i}$',size=25)\n",
    "\n",
    "f = plt.gcf()\n",
    "f.set_size_inches(15.0,7)"
   ]
  },
  {
   "cell_type": "code",
   "execution_count": 37,
   "metadata": {
    "collapsed": false
   },
   "outputs": [
    {
     "data": {
      "text/plain": [
       "7108"
      ]
     },
     "execution_count": 37,
     "metadata": {},
     "output_type": "execute_result"
    }
   ],
   "source": [
    "len(df)"
   ]
  },
  {
   "cell_type": "code",
   "execution_count": 38,
   "metadata": {
    "collapsed": false
   },
   "outputs": [
    {
     "data": {
      "text/plain": [
       "2132.1093827352447"
      ]
     },
     "execution_count": 38,
     "metadata": {},
     "output_type": "execute_result"
    }
   ],
   "source": [
    "np.sum(df['weight']/max(df['weight']))"
   ]
  },
  {
   "cell_type": "code",
   "execution_count": 39,
   "metadata": {
    "collapsed": false
   },
   "outputs": [
    {
     "data": {
      "text/plain": [
       "[<matplotlib.lines.Line2D at 0x114ee72d0>]"
      ]
     },
     "execution_count": 39,
     "metadata": {},
     "output_type": "execute_result"
    },
    {
     "data": {
      "image/png": "[encoded data removed]",
      "text/plain": [
       "<matplotlib.figure.Figure at 0x115922bd0>"
      ]
     },
     "metadata": {},
     "output_type": "display_data"
    }
   ],
   "source": [
    "plt.plot(np.sqrt((df['mu_s_b']-df['mu_l_b'])**2 + (df['mu_s_l']-df['mu_l_l'])**2),df['weight']/max(df['weight']),'b.')"
   ]
  },
  {
   "cell_type": "code",
   "execution_count": 74,
   "metadata": {
    "collapsed": true
   },
   "outputs": [],
   "source": [
    "df['tE_ratio'] = np.abs(df['tEp_fitted']/df['tE_fitted'])**2\n",
    "df['q_true_new'] = df['q_true'] + (df['rho']**2)"
   ]
  },
  {
   "cell_type": "code",
   "execution_count": 41,
   "metadata": {
    "collapsed": false
   },
   "outputs": [],
   "source": [
    "df_sort = df\n",
    "df_sort['sorted_dif_s'] = np.abs(df['s_fitted_log']-df['s_true_log'])\n",
    "df_sort['sorted_dif_tEp'] = np.abs(np.log10(df['tE_ratio'])-np.log10(df['q_true_new']))"
   ]
  },
  {
   "cell_type": "code",
   "execution_count": 42,
   "metadata": {
    "collapsed": false
   },
   "outputs": [
    {
     "name": "stderr",
     "output_type": "stream",
     "text": [
      "/Users/Research/Library/Enthought/Canopy_64bit/User/lib/python2.7/site-packages/ipykernel/__main__.py:1: FutureWarning: sort(columns=....) is deprecated, use sort_values(by=.....)\n",
      "  if __name__ == '__main__':\n",
      "/Users/Research/Library/Enthought/Canopy_64bit/User/lib/python2.7/site-packages/ipykernel/__main__.py:2: FutureWarning: sort(columns=....) is deprecated, use sort_values(by=.....)\n",
      "  from ipykernel import kernelapp as app\n"
     ]
    }
   ],
   "source": [
    "df_sort_s = df_sort.sort(['sorted_dif_s']).reset_index()\n",
    "df_sort_q = df_sort.sort(['sorted_dif_tEp']).reset_index()\n",
    "\n",
    "\n",
    "#[(df_sort['s_true']>0.9) & (df_sort['s_true']<1.1)]"
   ]
  },
  {
   "cell_type": "code",
   "execution_count": 43,
   "metadata": {
    "collapsed": false
   },
   "outputs": [],
   "source": [
    "x_s = df_sort_s['weight']\n",
    "x_q = df_sort_q['weight']\n",
    "\n",
    "\n",
    "MAD_1_s = np.zeros(len(x_s))\n",
    "MAD_2_s = np.zeros(len(x_s))\n",
    "MAD_3_s = np.zeros(len(x_s))\n",
    "MAD_1_q = np.zeros(len(x_q))\n",
    "MAD_2_q = np.zeros(len(x_q))\n",
    "MAD_3_q = np.zeros(len(x_q))\n",
    "\n",
    "for i in range(len(df_sort['weight'])):\n",
    "    MAD_1_s[i] = np.abs((np.sum(x_s[0:i])/np.sum(x_s))-0.5)\n",
    "    MAD_2_s[i] = ((np.sum(x_s[0:i])/np.sum(x_s))-0.5)\n",
    "    MAD_3_s[i] = ((np.sum(x_s[0:i])/np.sum(x_s)))\n",
    "    MAD_1_q[i] = np.abs((np.sum(x_q[0:i])/np.sum(x_q))-0.5)\n",
    "    MAD_2_q[i] = ((np.sum(x_q[0:i])/np.sum(x_q))-0.5)\n",
    "    MAD_3_q[i] = ((np.sum(x_q[0:i])/np.sum(x_q)))"
   ]
  },
  {
   "cell_type": "code",
   "execution_count": 44,
   "metadata": {
    "collapsed": true
   },
   "outputs": [],
   "source": [
    "y1 = df_sort_s['sorted_dif_s']\n",
    "y2 = df_sort_q['sorted_dif_tEp']"
   ]
  },
  {
   "cell_type": "code",
   "execution_count": 45,
   "metadata": {
    "collapsed": false
   },
   "outputs": [
    {
     "data": {
      "text/plain": [
       "7108"
      ]
     },
     "execution_count": 45,
     "metadata": {},
     "output_type": "execute_result"
    }
   ],
   "source": [
    "len(MAD_1_s)"
   ]
  },
  {
   "cell_type": "code",
   "execution_count": 46,
   "metadata": {
    "collapsed": false
   },
   "outputs": [
    {
     "data": {
      "text/plain": [
       "0.05407557178080001"
      ]
     },
     "execution_count": 46,
     "metadata": {},
     "output_type": "execute_result"
    }
   ],
   "source": [
    "y1[argmin(MAD_1_s)]\n"
   ]
  },
  {
   "cell_type": "code",
   "execution_count": 47,
   "metadata": {
    "collapsed": false
   },
   "outputs": [
    {
     "data": {
      "text/plain": [
       "0.5832135863423624"
      ]
     },
     "execution_count": 47,
     "metadata": {},
     "output_type": "execute_result"
    }
   ],
   "source": [
    "y2[argmin(MAD_1_q)]"
   ]
  },
  {
   "cell_type": "code",
   "execution_count": 234,
   "metadata": {
    "collapsed": false
   },
   "outputs": [
    {
     "data": {
      "text/plain": [
       "[<matplotlib.lines.Line2D at 0x1123192d0>]"
      ]
     },
     "execution_count": 234,
     "metadata": {},
     "output_type": "execute_result"
    },
    {
     "data": {
      "image/png": "[encoded data removed]",
      "text/plain": [
       "<matplotlib.figure.Figure at 0x116849d90>"
      ]
     },
     "metadata": {},
     "output_type": "display_data"
    }
   ],
   "source": [
    "plt.plot(df_sort_s['sorted_dif_s'], MAD_1_s,'b.')\n",
    "plt.plot(df_sort_s['sorted_dif_s'], MAD_2_s,'r.')\n",
    "plt.plot(df_sort_s['sorted_dif_s'], MAD_3_s,'g.')\n",
    "#plt.xlim(0,0.2)"
   ]
  },
  {
   "cell_type": "code",
   "execution_count": 160,
   "metadata": {
    "collapsed": false
   },
   "outputs": [
    {
     "data": {
      "text/plain": [
       "[<matplotlib.lines.Line2D at 0x116bd3ad0>]"
      ]
     },
     "execution_count": 160,
     "metadata": {},
     "output_type": "execute_result"
    },
    {
     "data": {
      "image/png": "[encoded data removed]",
      "text/plain": [
       "<matplotlib.figure.Figure at 0x116aa4850>"
      ]
     },
     "metadata": {},
     "output_type": "display_data"
    }
   ],
   "source": [
    "plt.plot(df_sort_q['sorted_dif_tEp'], MAD_1_q,'b.')\n",
    "plt.plot(df_sort_q['sorted_dif_tEp'], MAD_2_q,'r.')\n",
    "plt.plot(df_sort_q['sorted_dif_tEp'], MAD_3_q,'g.')\n",
    "#plt.xlim(0,0.2)"
   ]
  },
  {
   "cell_type": "code",
   "execution_count": 72,
   "metadata": {
    "collapsed": false
   },
   "outputs": [
    {
     "data": {
      "text/plain": [
       "0.04999943464132001"
      ]
     },
     "execution_count": 72,
     "metadata": {},
     "output_type": "execute_result"
    }
   ],
   "source": [
    "med_med(df['s_true_log']-df['s_fitted_log'])"
   ]
  },
  {
   "cell_type": "code",
   "execution_count": 75,
   "metadata": {
    "collapsed": false
   },
   "outputs": [
    {
     "data": {
      "text/plain": [
       "0.5695607330522479"
      ]
     },
     "execution_count": 75,
     "metadata": {},
     "output_type": "execute_result"
    }
   ],
   "source": [
    "med_med(np.log10(df['tE_ratio'])-np.log10(df['q_true_new']))"
   ]
  },
  {
   "cell_type": "code",
   "execution_count": 13,
   "metadata": {
    "collapsed": false
   },
   "outputs": [
    {
     "data": {
      "text/plain": [
       "[<matplotlib.lines.Line2D at 0x117495a90>]"
      ]
     },
     "execution_count": 13,
     "metadata": {},
     "output_type": "execute_result"
    },
    {
     "data": {
      "image/png": "[encoded data removed]",
      "text/plain": [
       "<matplotlib.figure.Figure at 0x11250b710>"
      ]
     },
     "metadata": {},
     "output_type": "display_data"
    }
   ],
   "source": [
    "plt.plot(df['s_true'][(df['s_true']>1)&(df['s_fitted']<1)],df['s_fitted'][(df['s_true']>1)&(df['s_fitted']<1)],'b.')"
   ]
  },
  {
   "cell_type": "code",
   "execution_count": 20,
   "metadata": {
    "collapsed": true
   },
   "outputs": [],
   "source": [
    "ff =df[(df['s_true']<1)&(df['s_fitted']>1)]"
   ]
  },
  {
   "cell_type": "code",
   "execution_count": 21,
   "metadata": {
    "collapsed": false
   },
   "outputs": [
    {
     "name": "stderr",
     "output_type": "stream",
     "text": [
      "/Users/Research/Library/Enthought/Canopy_64bit/User/lib/python2.7/site-packages/ipykernel/__main__.py:1: UserWarning: Boolean Series key will be reindexed to match DataFrame index.\n",
      "  if __name__ == '__main__':\n"
     ]
    },
    {
     "data": {
      "text/plain": [
       "488"
      ]
     },
     "execution_count": 21,
     "metadata": {},
     "output_type": "execute_result"
    }
   ],
   "source": [
    "len(ff[((1.0/df['s_fitted'])>df['s_true']-0.05) &((1.0/df['s_fitted'])<df['s_true']+0.05)])"
   ]
  },
  {
   "cell_type": "code",
   "execution_count": 22,
   "metadata": {
    "collapsed": false
   },
   "outputs": [
    {
     "data": {
      "text/plain": [
       "[<matplotlib.lines.Line2D at 0x1122b4910>]"
      ]
     },
     "execution_count": 22,
     "metadata": {},
     "output_type": "execute_result"
    },
    {
     "data": {
      "image/png": "[encoded data removed]",
      "text/plain": [
       "<matplotlib.figure.Figure at 0x1124faa90>"
      ]
     },
     "metadata": {},
     "output_type": "display_data"
    }
   ],
   "source": [
    "plt.plot(ff['s_true'][((1.0/df['s_fitted'])>df['s_true']-0.05) &((1.0/df['s_fitted'])<df['s_true']+0.05)],\n",
    "         ff['s_fitted'][((1.0/df['s_fitted'])>df['s_true']-0.05) &((1.0/df['s_fitted'])<df['s_true']+0.05)],'b.')"
   ]
  },
  {
   "cell_type": "code",
   "execution_count": 23,
   "metadata": {
    "collapsed": false
   },
   "outputs": [
    {
     "name": "stderr",
     "output_type": "stream",
     "text": [
      "/Users/Research/Library/Enthought/Canopy_64bit/User/lib/python2.7/site-packages/ipykernel/__main__.py:1: UserWarning: Boolean Series key will be reindexed to match DataFrame index.\n",
      "  if __name__ == '__main__':\n"
     ]
    },
    {
     "data": {
      "text/html": [
       "<div>\n",
       "<table border=\"1\" class=\"dataframe\">\n",
       "  <thead>\n",
       "    <tr style=\"text-align: right;\">\n",
       "      <th></th>\n",
       "      <th>name</th>\n",
       "      <th>s_true</th>\n",
       "      <th>s_fitted</th>\n",
       "    </tr>\n",
       "  </thead>\n",
       "  <tbody>\n",
       "    <tr>\n",
       "      <th>4</th>\n",
       "      <td>cassan_0_109_2397.det.lc.gz</td>\n",
       "      <td>0.683782</td>\n",
       "      <td>1.496885</td>\n",
       "    </tr>\n",
       "    <tr>\n",
       "      <th>45</th>\n",
       "      <td>cassan_0_30_255.det.lc.gz</td>\n",
       "      <td>0.274684</td>\n",
       "      <td>3.636956</td>\n",
       "    </tr>\n",
       "    <tr>\n",
       "      <th>126</th>\n",
       "      <td>cassan_0_87_3319.det.lc.gz</td>\n",
       "      <td>0.537494</td>\n",
       "      <td>1.845862</td>\n",
       "    </tr>\n",
       "    <tr>\n",
       "      <th>155</th>\n",
       "      <td>cassan_10_112_3168.det.lc.gz</td>\n",
       "      <td>0.328106</td>\n",
       "      <td>2.904737</td>\n",
       "    </tr>\n",
       "    <tr>\n",
       "      <th>203</th>\n",
       "      <td>cassan_10_43_465.det.lc.gz</td>\n",
       "      <td>0.558755</td>\n",
       "      <td>1.843154</td>\n",
       "    </tr>\n",
       "    <tr>\n",
       "      <th>303</th>\n",
       "      <td>cassan_11_126_1453.det.lc.gz</td>\n",
       "      <td>0.641289</td>\n",
       "      <td>1.687309</td>\n",
       "    </tr>\n",
       "    <tr>\n",
       "      <th>331</th>\n",
       "      <td>cassan_11_23_2833.det.lc.gz</td>\n",
       "      <td>0.485389</td>\n",
       "      <td>2.168031</td>\n",
       "    </tr>\n",
       "    <tr>\n",
       "      <th>341</th>\n",
       "      <td>cassan_11_31_96.det.lc.gz</td>\n",
       "      <td>0.692199</td>\n",
       "      <td>1.441754</td>\n",
       "    </tr>\n",
       "    <tr>\n",
       "      <th>351</th>\n",
       "      <td>cassan_11_36_1378.det.lc.gz</td>\n",
       "      <td>0.482560</td>\n",
       "      <td>2.069063</td>\n",
       "    </tr>\n",
       "    <tr>\n",
       "      <th>397</th>\n",
       "      <td>cassan_11_74_2082.det.lc.gz</td>\n",
       "      <td>0.682818</td>\n",
       "      <td>1.473162</td>\n",
       "    </tr>\n",
       "    <tr>\n",
       "      <th>427</th>\n",
       "      <td>cassan_11_96_1206.det.lc.gz</td>\n",
       "      <td>0.632742</td>\n",
       "      <td>1.617557</td>\n",
       "    </tr>\n",
       "    <tr>\n",
       "      <th>454</th>\n",
       "      <td>cassan_12_109_3124.det.lc.gz</td>\n",
       "      <td>0.678864</td>\n",
       "      <td>1.574424</td>\n",
       "    </tr>\n",
       "    <tr>\n",
       "      <th>484</th>\n",
       "      <td>cassan_12_139_1241.det.lc.gz</td>\n",
       "      <td>0.506050</td>\n",
       "      <td>1.986799</td>\n",
       "    </tr>\n",
       "    <tr>\n",
       "      <th>491</th>\n",
       "      <td>cassan_12_150_558.det.lc.gz</td>\n",
       "      <td>0.575366</td>\n",
       "      <td>1.890800</td>\n",
       "    </tr>\n",
       "    <tr>\n",
       "      <th>547</th>\n",
       "      <td>cassan_12_61_3253.det.lc.gz</td>\n",
       "      <td>0.628164</td>\n",
       "      <td>1.579564</td>\n",
       "    </tr>\n",
       "    <tr>\n",
       "      <th>573</th>\n",
       "      <td>cassan_12_83_83.det.lc.gz</td>\n",
       "      <td>0.544958</td>\n",
       "      <td>1.780249</td>\n",
       "    </tr>\n",
       "    <tr>\n",
       "      <th>609</th>\n",
       "      <td>cassan_12_9_1933.det.lc.gz</td>\n",
       "      <td>0.514437</td>\n",
       "      <td>1.905080</td>\n",
       "    </tr>\n",
       "    <tr>\n",
       "      <th>685</th>\n",
       "      <td>cassan_13_36_1167.det.lc.gz</td>\n",
       "      <td>0.636267</td>\n",
       "      <td>1.543576</td>\n",
       "    </tr>\n",
       "    <tr>\n",
       "      <th>729</th>\n",
       "      <td>cassan_13_74_2978.det.lc.gz</td>\n",
       "      <td>0.679485</td>\n",
       "      <td>1.463483</td>\n",
       "    </tr>\n",
       "    <tr>\n",
       "      <th>730</th>\n",
       "      <td>cassan_13_75_2981.det.lc.gz</td>\n",
       "      <td>0.321021</td>\n",
       "      <td>3.169343</td>\n",
       "    </tr>\n",
       "    <tr>\n",
       "      <th>756</th>\n",
       "      <td>cassan_13_97_419.det.lc.gz</td>\n",
       "      <td>0.498209</td>\n",
       "      <td>2.018941</td>\n",
       "    </tr>\n",
       "    <tr>\n",
       "      <th>757</th>\n",
       "      <td>cassan_13_98_1523.det.lc.gz</td>\n",
       "      <td>0.666769</td>\n",
       "      <td>1.503922</td>\n",
       "    </tr>\n",
       "    <tr>\n",
       "      <th>836</th>\n",
       "      <td>cassan_14_46_2906.det.lc.gz</td>\n",
       "      <td>0.538647</td>\n",
       "      <td>1.735772</td>\n",
       "    </tr>\n",
       "    <tr>\n",
       "      <th>908</th>\n",
       "      <td>cassan_14_96_421.det.lc.gz</td>\n",
       "      <td>0.614094</td>\n",
       "      <td>1.623904</td>\n",
       "    </tr>\n",
       "    <tr>\n",
       "      <th>947</th>\n",
       "      <td>cassan_15_137_733.det.lc.gz</td>\n",
       "      <td>0.531746</td>\n",
       "      <td>1.882743</td>\n",
       "    </tr>\n",
       "    <tr>\n",
       "      <th>1045</th>\n",
       "      <td>cassan_15_85_1215.det.lc.gz</td>\n",
       "      <td>0.309788</td>\n",
       "      <td>3.095833</td>\n",
       "    </tr>\n",
       "    <tr>\n",
       "      <th>1177</th>\n",
       "      <td>cassan_16_75_1149.det.lc.gz</td>\n",
       "      <td>0.612903</td>\n",
       "      <td>1.617948</td>\n",
       "    </tr>\n",
       "    <tr>\n",
       "      <th>1220</th>\n",
       "      <td>cassan_17_10_2105.det.lc.gz</td>\n",
       "      <td>0.477298</td>\n",
       "      <td>1.996186</td>\n",
       "    </tr>\n",
       "    <tr>\n",
       "      <th>1270</th>\n",
       "      <td>cassan_17_43_1332.det.lc.gz</td>\n",
       "      <td>0.418040</td>\n",
       "      <td>2.348749</td>\n",
       "    </tr>\n",
       "    <tr>\n",
       "      <th>1288</th>\n",
       "      <td>cassan_17_56_1448.det.lc.gz</td>\n",
       "      <td>0.242399</td>\n",
       "      <td>4.109942</td>\n",
       "    </tr>\n",
       "    <tr>\n",
       "      <th>...</th>\n",
       "      <td>...</td>\n",
       "      <td>...</td>\n",
       "      <td>...</td>\n",
       "    </tr>\n",
       "    <tr>\n",
       "      <th>10736</th>\n",
       "      <td>cassan_35_5_477.det.lc.gz</td>\n",
       "      <td>0.551892</td>\n",
       "      <td>1.840726</td>\n",
       "    </tr>\n",
       "    <tr>\n",
       "      <th>10739</th>\n",
       "      <td>cassan_35_60_860.det.lc.gz</td>\n",
       "      <td>0.625858</td>\n",
       "      <td>1.587890</td>\n",
       "    </tr>\n",
       "    <tr>\n",
       "      <th>10905</th>\n",
       "      <td>cassan_37_18_3119.det.lc.gz</td>\n",
       "      <td>0.342876</td>\n",
       "      <td>2.822044</td>\n",
       "    </tr>\n",
       "    <tr>\n",
       "      <th>11034</th>\n",
       "      <td>cassan_38_60_88.det.lc.gz</td>\n",
       "      <td>0.537917</td>\n",
       "      <td>1.923880</td>\n",
       "    </tr>\n",
       "    <tr>\n",
       "      <th>11140</th>\n",
       "      <td>cassan_39_61_1152.det.lc.gz</td>\n",
       "      <td>0.587808</td>\n",
       "      <td>1.684228</td>\n",
       "    </tr>\n",
       "    <tr>\n",
       "      <th>11300</th>\n",
       "      <td>cassan_40_4_2538.det.lc.gz</td>\n",
       "      <td>0.466274</td>\n",
       "      <td>2.134832</td>\n",
       "    </tr>\n",
       "    <tr>\n",
       "      <th>11355</th>\n",
       "      <td>cassan_41_112_2033.det.lc.gz</td>\n",
       "      <td>0.558342</td>\n",
       "      <td>1.878757</td>\n",
       "    </tr>\n",
       "    <tr>\n",
       "      <th>11670</th>\n",
       "      <td>cassan_44_115_172.det.lc.gz</td>\n",
       "      <td>0.529993</td>\n",
       "      <td>1.892995</td>\n",
       "    </tr>\n",
       "    <tr>\n",
       "      <th>11832</th>\n",
       "      <td>cassan_45_7_2907.det.lc.gz</td>\n",
       "      <td>0.693125</td>\n",
       "      <td>1.361719</td>\n",
       "    </tr>\n",
       "    <tr>\n",
       "      <th>11899</th>\n",
       "      <td>cassan_46_48_1305.det.lc.gz</td>\n",
       "      <td>0.480905</td>\n",
       "      <td>2.121469</td>\n",
       "    </tr>\n",
       "    <tr>\n",
       "      <th>11938</th>\n",
       "      <td>cassan_46_84_2993.det.lc.gz</td>\n",
       "      <td>0.276351</td>\n",
       "      <td>3.957901</td>\n",
       "    </tr>\n",
       "    <tr>\n",
       "      <th>12021</th>\n",
       "      <td>cassan_47_70_1197.det.lc.gz</td>\n",
       "      <td>0.674914</td>\n",
       "      <td>1.485561</td>\n",
       "    </tr>\n",
       "    <tr>\n",
       "      <th>12062</th>\n",
       "      <td>cassan_48_114_2592.det.lc.gz</td>\n",
       "      <td>0.496276</td>\n",
       "      <td>2.010751</td>\n",
       "    </tr>\n",
       "    <tr>\n",
       "      <th>12233</th>\n",
       "      <td>cassan_49_86_130.det.lc.gz</td>\n",
       "      <td>0.325549</td>\n",
       "      <td>2.874995</td>\n",
       "    </tr>\n",
       "    <tr>\n",
       "      <th>12245</th>\n",
       "      <td>cassan_4_100_2353.det.lc.gz</td>\n",
       "      <td>0.293479</td>\n",
       "      <td>3.425202</td>\n",
       "    </tr>\n",
       "    <tr>\n",
       "      <th>12249</th>\n",
       "      <td>cassan_4_109_524.det.lc.gz</td>\n",
       "      <td>0.224163</td>\n",
       "      <td>4.445023</td>\n",
       "    </tr>\n",
       "    <tr>\n",
       "      <th>12361</th>\n",
       "      <td>cassan_50_17_447.det.lc.gz</td>\n",
       "      <td>0.584836</td>\n",
       "      <td>1.785952</td>\n",
       "    </tr>\n",
       "    <tr>\n",
       "      <th>12511</th>\n",
       "      <td>cassan_5_115_687.det.lc.gz</td>\n",
       "      <td>0.581338</td>\n",
       "      <td>1.797222</td>\n",
       "    </tr>\n",
       "    <tr>\n",
       "      <th>12523</th>\n",
       "      <td>cassan_5_127_209.det.lc.gz</td>\n",
       "      <td>0.624908</td>\n",
       "      <td>1.587558</td>\n",
       "    </tr>\n",
       "    <tr>\n",
       "      <th>12534</th>\n",
       "      <td>cassan_5_17_843.det.lc.gz</td>\n",
       "      <td>0.439544</td>\n",
       "      <td>2.260847</td>\n",
       "    </tr>\n",
       "    <tr>\n",
       "      <th>12592</th>\n",
       "      <td>cassan_5_75_1366.det.lc.gz</td>\n",
       "      <td>0.579943</td>\n",
       "      <td>1.695188</td>\n",
       "    </tr>\n",
       "    <tr>\n",
       "      <th>12635</th>\n",
       "      <td>cassan_6_150_1040.det.lc.gz</td>\n",
       "      <td>0.370488</td>\n",
       "      <td>2.397652</td>\n",
       "    </tr>\n",
       "    <tr>\n",
       "      <th>12665</th>\n",
       "      <td>cassan_6_49_2141.det.lc.gz</td>\n",
       "      <td>0.320940</td>\n",
       "      <td>3.110147</td>\n",
       "    </tr>\n",
       "    <tr>\n",
       "      <th>12685</th>\n",
       "      <td>cassan_6_61_827.det.lc.gz</td>\n",
       "      <td>0.698919</td>\n",
       "      <td>1.425934</td>\n",
       "    </tr>\n",
       "    <tr>\n",
       "      <th>12861</th>\n",
       "      <td>cassan_8_33_2054.det.lc.gz</td>\n",
       "      <td>0.440558</td>\n",
       "      <td>2.366385</td>\n",
       "    </tr>\n",
       "    <tr>\n",
       "      <th>12888</th>\n",
       "      <td>cassan_8_71_2974.det.lc.gz</td>\n",
       "      <td>0.490104</td>\n",
       "      <td>1.974727</td>\n",
       "    </tr>\n",
       "    <tr>\n",
       "      <th>12914</th>\n",
       "      <td>cassan_9_109_2098.det.lc.gz</td>\n",
       "      <td>0.612220</td>\n",
       "      <td>1.555470</td>\n",
       "    </tr>\n",
       "    <tr>\n",
       "      <th>12943</th>\n",
       "      <td>cassan_9_151_511.det.lc.gz</td>\n",
       "      <td>0.359463</td>\n",
       "      <td>2.844388</td>\n",
       "    </tr>\n",
       "    <tr>\n",
       "      <th>12959</th>\n",
       "      <td>cassan_9_35_978.det.lc.gz</td>\n",
       "      <td>0.342697</td>\n",
       "      <td>2.696045</td>\n",
       "    </tr>\n",
       "    <tr>\n",
       "      <th>13001</th>\n",
       "      <td>cassan_9_96_3039.det.lc.gz</td>\n",
       "      <td>0.494860</td>\n",
       "      <td>2.004138</td>\n",
       "    </tr>\n",
       "  </tbody>\n",
       "</table>\n",
       "<p>247 rows × 3 columns</p>\n",
       "</div>"
      ],
      "text/plain": [
       "                               name    s_true  s_fitted\n",
       "4       cassan_0_109_2397.det.lc.gz  0.683782  1.496885\n",
       "45        cassan_0_30_255.det.lc.gz  0.274684  3.636956\n",
       "126      cassan_0_87_3319.det.lc.gz  0.537494  1.845862\n",
       "155    cassan_10_112_3168.det.lc.gz  0.328106  2.904737\n",
       "203      cassan_10_43_465.det.lc.gz  0.558755  1.843154\n",
       "303    cassan_11_126_1453.det.lc.gz  0.641289  1.687309\n",
       "331     cassan_11_23_2833.det.lc.gz  0.485389  2.168031\n",
       "341       cassan_11_31_96.det.lc.gz  0.692199  1.441754\n",
       "351     cassan_11_36_1378.det.lc.gz  0.482560  2.069063\n",
       "397     cassan_11_74_2082.det.lc.gz  0.682818  1.473162\n",
       "427     cassan_11_96_1206.det.lc.gz  0.632742  1.617557\n",
       "454    cassan_12_109_3124.det.lc.gz  0.678864  1.574424\n",
       "484    cassan_12_139_1241.det.lc.gz  0.506050  1.986799\n",
       "491     cassan_12_150_558.det.lc.gz  0.575366  1.890800\n",
       "547     cassan_12_61_3253.det.lc.gz  0.628164  1.579564\n",
       "573       cassan_12_83_83.det.lc.gz  0.544958  1.780249\n",
       "609      cassan_12_9_1933.det.lc.gz  0.514437  1.905080\n",
       "685     cassan_13_36_1167.det.lc.gz  0.636267  1.543576\n",
       "729     cassan_13_74_2978.det.lc.gz  0.679485  1.463483\n",
       "730     cassan_13_75_2981.det.lc.gz  0.321021  3.169343\n",
       "756      cassan_13_97_419.det.lc.gz  0.498209  2.018941\n",
       "757     cassan_13_98_1523.det.lc.gz  0.666769  1.503922\n",
       "836     cassan_14_46_2906.det.lc.gz  0.538647  1.735772\n",
       "908      cassan_14_96_421.det.lc.gz  0.614094  1.623904\n",
       "947     cassan_15_137_733.det.lc.gz  0.531746  1.882743\n",
       "1045    cassan_15_85_1215.det.lc.gz  0.309788  3.095833\n",
       "1177    cassan_16_75_1149.det.lc.gz  0.612903  1.617948\n",
       "1220    cassan_17_10_2105.det.lc.gz  0.477298  1.996186\n",
       "1270    cassan_17_43_1332.det.lc.gz  0.418040  2.348749\n",
       "1288    cassan_17_56_1448.det.lc.gz  0.242399  4.109942\n",
       "...                             ...       ...       ...\n",
       "10736     cassan_35_5_477.det.lc.gz  0.551892  1.840726\n",
       "10739    cassan_35_60_860.det.lc.gz  0.625858  1.587890\n",
       "10905   cassan_37_18_3119.det.lc.gz  0.342876  2.822044\n",
       "11034     cassan_38_60_88.det.lc.gz  0.537917  1.923880\n",
       "11140   cassan_39_61_1152.det.lc.gz  0.587808  1.684228\n",
       "11300    cassan_40_4_2538.det.lc.gz  0.466274  2.134832\n",
       "11355  cassan_41_112_2033.det.lc.gz  0.558342  1.878757\n",
       "11670   cassan_44_115_172.det.lc.gz  0.529993  1.892995\n",
       "11832    cassan_45_7_2907.det.lc.gz  0.693125  1.361719\n",
       "11899   cassan_46_48_1305.det.lc.gz  0.480905  2.121469\n",
       "11938   cassan_46_84_2993.det.lc.gz  0.276351  3.957901\n",
       "12021   cassan_47_70_1197.det.lc.gz  0.674914  1.485561\n",
       "12062  cassan_48_114_2592.det.lc.gz  0.496276  2.010751\n",
       "12233    cassan_49_86_130.det.lc.gz  0.325549  2.874995\n",
       "12245   cassan_4_100_2353.det.lc.gz  0.293479  3.425202\n",
       "12249    cassan_4_109_524.det.lc.gz  0.224163  4.445023\n",
       "12361    cassan_50_17_447.det.lc.gz  0.584836  1.785952\n",
       "12511    cassan_5_115_687.det.lc.gz  0.581338  1.797222\n",
       "12523    cassan_5_127_209.det.lc.gz  0.624908  1.587558\n",
       "12534     cassan_5_17_843.det.lc.gz  0.439544  2.260847\n",
       "12592    cassan_5_75_1366.det.lc.gz  0.579943  1.695188\n",
       "12635   cassan_6_150_1040.det.lc.gz  0.370488  2.397652\n",
       "12665    cassan_6_49_2141.det.lc.gz  0.320940  3.110147\n",
       "12685     cassan_6_61_827.det.lc.gz  0.698919  1.425934\n",
       "12861    cassan_8_33_2054.det.lc.gz  0.440558  2.366385\n",
       "12888    cassan_8_71_2974.det.lc.gz  0.490104  1.974727\n",
       "12914   cassan_9_109_2098.det.lc.gz  0.612220  1.555470\n",
       "12943    cassan_9_151_511.det.lc.gz  0.359463  2.844388\n",
       "12959     cassan_9_35_978.det.lc.gz  0.342697  2.696045\n",
       "13001    cassan_9_96_3039.det.lc.gz  0.494860  2.004138\n",
       "\n",
       "[247 rows x 3 columns]"
      ]
     },
     "execution_count": 23,
     "metadata": {},
     "output_type": "execute_result"
    }
   ],
   "source": [
    "ff[['name','s_true','s_fitted']][((1.0/df['s_fitted'])>df['s_true']-0.05) &((1.0/df['s_fitted'])<df['s_true']+0.05)][ff['s_true']<0.7]"
   ]
  },
  {
   "cell_type": "code",
   "execution_count": 29,
   "metadata": {
    "collapsed": false
   },
   "outputs": [
    {
     "name": "stderr",
     "output_type": "stream",
     "text": [
      "/Users/Research/Library/Enthought/Canopy_64bit/User/lib/python2.7/site-packages/ipykernel/__main__.py:1: UserWarning: Boolean Series key will be reindexed to match DataFrame index.\n",
      "  if __name__ == '__main__':\n"
     ]
    },
    {
     "data": {
      "text/html": [
       "<div>\n",
       "<table border=\"1\" class=\"dataframe\">\n",
       "  <thead>\n",
       "    <tr style=\"text-align: right;\">\n",
       "      <th></th>\n",
       "      <th>name</th>\n",
       "      <th>s_true</th>\n",
       "      <th>s_fitted</th>\n",
       "      <th>u0_true</th>\n",
       "      <th>tE_true</th>\n",
       "    </tr>\n",
       "  </thead>\n",
       "  <tbody>\n",
       "    <tr>\n",
       "      <th>3911</th>\n",
       "      <td>cassan_0_24_3180.det.lc.gz</td>\n",
       "      <td>2.676270</td>\n",
       "      <td>8.069110</td>\n",
       "      <td>2.252670</td>\n",
       "      <td>43.43670</td>\n",
       "    </tr>\n",
       "    <tr>\n",
       "      <th>3997</th>\n",
       "      <td>cassan_10_112_107.det.lc.gz</td>\n",
       "      <td>0.321046</td>\n",
       "      <td>0.156537</td>\n",
       "      <td>2.249300</td>\n",
       "      <td>41.92060</td>\n",
       "    </tr>\n",
       "    <tr>\n",
       "      <th>4003</th>\n",
       "      <td>cassan_10_125_641.det.lc.gz</td>\n",
       "      <td>0.473747</td>\n",
       "      <td>9.619587</td>\n",
       "      <td>1.498290</td>\n",
       "      <td>15.48550</td>\n",
       "    </tr>\n",
       "    <tr>\n",
       "      <th>4012</th>\n",
       "      <td>cassan_10_138_746.det.lc.gz</td>\n",
       "      <td>2.937400</td>\n",
       "      <td>5.338336</td>\n",
       "      <td>1.808160</td>\n",
       "      <td>87.13640</td>\n",
       "    </tr>\n",
       "    <tr>\n",
       "      <th>4014</th>\n",
       "      <td>cassan_10_150_1550.det.lc.gz</td>\n",
       "      <td>4.561850</td>\n",
       "      <td>0.058409</td>\n",
       "      <td>1.269000</td>\n",
       "      <td>17.69290</td>\n",
       "    </tr>\n",
       "    <tr>\n",
       "      <th>4025</th>\n",
       "      <td>cassan_10_31_1076.det.lc.gz</td>\n",
       "      <td>0.379592</td>\n",
       "      <td>0.034686</td>\n",
       "      <td>2.198120</td>\n",
       "      <td>11.96570</td>\n",
       "    </tr>\n",
       "    <tr>\n",
       "      <th>4041</th>\n",
       "      <td>cassan_10_46_567.det.lc.gz</td>\n",
       "      <td>1.373120</td>\n",
       "      <td>114.301255</td>\n",
       "      <td>0.654623</td>\n",
       "      <td>10.68870</td>\n",
       "    </tr>\n",
       "    <tr>\n",
       "      <th>4063</th>\n",
       "      <td>cassan_10_72_2091.det.lc.gz</td>\n",
       "      <td>0.538609</td>\n",
       "      <td>13.331760</td>\n",
       "      <td>1.315230</td>\n",
       "      <td>32.12070</td>\n",
       "    </tr>\n",
       "    <tr>\n",
       "      <th>4089</th>\n",
       "      <td>cassan_10_99_632.det.lc.gz</td>\n",
       "      <td>3.735760</td>\n",
       "      <td>0.054087</td>\n",
       "      <td>2.596050</td>\n",
       "      <td>17.78740</td>\n",
       "    </tr>\n",
       "    <tr>\n",
       "      <th>4094</th>\n",
       "      <td>cassan_11_101_479.det.lc.gz</td>\n",
       "      <td>3.151920</td>\n",
       "      <td>0.009065</td>\n",
       "      <td>2.265360</td>\n",
       "      <td>13.73380</td>\n",
       "    </tr>\n",
       "    <tr>\n",
       "      <th>4105</th>\n",
       "      <td>cassan_11_114_2623.det.lc.gz</td>\n",
       "      <td>2.450270</td>\n",
       "      <td>0.083293</td>\n",
       "      <td>2.142510</td>\n",
       "      <td>32.17450</td>\n",
       "    </tr>\n",
       "    <tr>\n",
       "      <th>4134</th>\n",
       "      <td>cassan_11_32_119.det.lc.gz</td>\n",
       "      <td>0.149408</td>\n",
       "      <td>0.826800</td>\n",
       "      <td>0.362760</td>\n",
       "      <td>171.66200</td>\n",
       "    </tr>\n",
       "    <tr>\n",
       "      <th>4154</th>\n",
       "      <td>cassan_11_56_3181.det.lc.gz</td>\n",
       "      <td>2.137930</td>\n",
       "      <td>0.212449</td>\n",
       "      <td>1.285500</td>\n",
       "      <td>9.58229</td>\n",
       "    </tr>\n",
       "    <tr>\n",
       "      <th>4194</th>\n",
       "      <td>cassan_12_124_2814.det.lc.gz</td>\n",
       "      <td>3.404220</td>\n",
       "      <td>0.098531</td>\n",
       "      <td>2.557010</td>\n",
       "      <td>10.09470</td>\n",
       "    </tr>\n",
       "    <tr>\n",
       "      <th>4204</th>\n",
       "      <td>cassan_12_138_1155.det.lc.gz</td>\n",
       "      <td>1.917380</td>\n",
       "      <td>8.751992</td>\n",
       "      <td>1.554030</td>\n",
       "      <td>26.36380</td>\n",
       "    </tr>\n",
       "    <tr>\n",
       "      <th>4227</th>\n",
       "      <td>cassan_12_32_1872.det.lc.gz</td>\n",
       "      <td>1.831490</td>\n",
       "      <td>15.442033</td>\n",
       "      <td>1.270340</td>\n",
       "      <td>8.69618</td>\n",
       "    </tr>\n",
       "    <tr>\n",
       "      <th>4259</th>\n",
       "      <td>cassan_12_71_251.det.lc.gz</td>\n",
       "      <td>1.866990</td>\n",
       "      <td>0.265614</td>\n",
       "      <td>0.672344</td>\n",
       "      <td>46.93240</td>\n",
       "    </tr>\n",
       "    <tr>\n",
       "      <th>4295</th>\n",
       "      <td>cassan_13_124_871.det.lc.gz</td>\n",
       "      <td>0.362445</td>\n",
       "      <td>9.505636</td>\n",
       "      <td>0.982489</td>\n",
       "      <td>87.99140</td>\n",
       "    </tr>\n",
       "    <tr>\n",
       "      <th>4322</th>\n",
       "      <td>cassan_13_23_2721.det.lc.gz</td>\n",
       "      <td>2.449330</td>\n",
       "      <td>1.634422</td>\n",
       "      <td>1.925720</td>\n",
       "      <td>101.91400</td>\n",
       "    </tr>\n",
       "    <tr>\n",
       "      <th>4330</th>\n",
       "      <td>cassan_13_35_833.det.lc.gz</td>\n",
       "      <td>3.185630</td>\n",
       "      <td>6.489328</td>\n",
       "      <td>0.636029</td>\n",
       "      <td>5.62002</td>\n",
       "    </tr>\n",
       "    <tr>\n",
       "      <th>4356</th>\n",
       "      <td>cassan_13_6_1194.det.lc.gz</td>\n",
       "      <td>0.786824</td>\n",
       "      <td>0.003327</td>\n",
       "      <td>1.051130</td>\n",
       "      <td>11.73850</td>\n",
       "    </tr>\n",
       "    <tr>\n",
       "      <th>4358</th>\n",
       "      <td>cassan_13_72_1706.det.lc.gz</td>\n",
       "      <td>1.239920</td>\n",
       "      <td>0.756613</td>\n",
       "      <td>0.554584</td>\n",
       "      <td>1.95742</td>\n",
       "    </tr>\n",
       "    <tr>\n",
       "      <th>4392</th>\n",
       "      <td>cassan_14_114_3147.det.lc.gz</td>\n",
       "      <td>2.551880</td>\n",
       "      <td>0.023021</td>\n",
       "      <td>2.107560</td>\n",
       "      <td>18.88210</td>\n",
       "    </tr>\n",
       "    <tr>\n",
       "      <th>4398</th>\n",
       "      <td>cassan_14_136_1694.det.lc.gz</td>\n",
       "      <td>34.733800</td>\n",
       "      <td>0.132747</td>\n",
       "      <td>2.290690</td>\n",
       "      <td>25.37440</td>\n",
       "    </tr>\n",
       "    <tr>\n",
       "      <th>4411</th>\n",
       "      <td>cassan_14_19_2666.det.lc.gz</td>\n",
       "      <td>2.857760</td>\n",
       "      <td>0.110004</td>\n",
       "      <td>2.357320</td>\n",
       "      <td>250.45800</td>\n",
       "    </tr>\n",
       "    <tr>\n",
       "      <th>4414</th>\n",
       "      <td>cassan_14_21_599.det.lc.gz</td>\n",
       "      <td>4.675210</td>\n",
       "      <td>34.064989</td>\n",
       "      <td>2.089410</td>\n",
       "      <td>15.17460</td>\n",
       "    </tr>\n",
       "    <tr>\n",
       "      <th>4419</th>\n",
       "      <td>cassan_14_24_19.det.lc.gz</td>\n",
       "      <td>0.583071</td>\n",
       "      <td>0.023938</td>\n",
       "      <td>1.120250</td>\n",
       "      <td>10.32360</td>\n",
       "    </tr>\n",
       "    <tr>\n",
       "      <th>4431</th>\n",
       "      <td>cassan_14_36_583.det.lc.gz</td>\n",
       "      <td>2.279800</td>\n",
       "      <td>1.032958</td>\n",
       "      <td>1.493700</td>\n",
       "      <td>7.59315</td>\n",
       "    </tr>\n",
       "    <tr>\n",
       "      <th>4453</th>\n",
       "      <td>cassan_14_59_267.det.lc.gz</td>\n",
       "      <td>2.045090</td>\n",
       "      <td>0.002845</td>\n",
       "      <td>1.628530</td>\n",
       "      <td>8.35895</td>\n",
       "    </tr>\n",
       "    <tr>\n",
       "      <th>4463</th>\n",
       "      <td>cassan_14_72_1452.det.lc.gz</td>\n",
       "      <td>1.924900</td>\n",
       "      <td>98.306684</td>\n",
       "      <td>0.302459</td>\n",
       "      <td>22.77410</td>\n",
       "    </tr>\n",
       "    <tr>\n",
       "      <th>...</th>\n",
       "      <td>...</td>\n",
       "      <td>...</td>\n",
       "      <td>...</td>\n",
       "      <td>...</td>\n",
       "      <td>...</td>\n",
       "    </tr>\n",
       "    <tr>\n",
       "      <th>12536</th>\n",
       "      <td>cassan_5_19_2390.det.lc.gz</td>\n",
       "      <td>2.199830</td>\n",
       "      <td>0.015763</td>\n",
       "      <td>1.719440</td>\n",
       "      <td>4.43715</td>\n",
       "    </tr>\n",
       "    <tr>\n",
       "      <th>12546</th>\n",
       "      <td>cassan_5_30_3237.det.lc.gz</td>\n",
       "      <td>4.649110</td>\n",
       "      <td>0.058560</td>\n",
       "      <td>0.982298</td>\n",
       "      <td>25.78650</td>\n",
       "    </tr>\n",
       "    <tr>\n",
       "      <th>12573</th>\n",
       "      <td>cassan_5_59_2480.det.lc.gz</td>\n",
       "      <td>4.924480</td>\n",
       "      <td>0.323981</td>\n",
       "      <td>0.719721</td>\n",
       "      <td>30.83730</td>\n",
       "    </tr>\n",
       "    <tr>\n",
       "      <th>12574</th>\n",
       "      <td>cassan_5_5_1236.det.lc.gz</td>\n",
       "      <td>0.236888</td>\n",
       "      <td>0.015975</td>\n",
       "      <td>1.722000</td>\n",
       "      <td>6.04486</td>\n",
       "    </tr>\n",
       "    <tr>\n",
       "      <th>12577</th>\n",
       "      <td>cassan_5_60_2691.det.lc.gz</td>\n",
       "      <td>2.401150</td>\n",
       "      <td>0.086422</td>\n",
       "      <td>1.966820</td>\n",
       "      <td>10.43810</td>\n",
       "    </tr>\n",
       "    <tr>\n",
       "      <th>12602</th>\n",
       "      <td>cassan_5_8_886.det.lc.gz</td>\n",
       "      <td>0.707563</td>\n",
       "      <td>0.098623</td>\n",
       "      <td>0.650869</td>\n",
       "      <td>4.72025</td>\n",
       "    </tr>\n",
       "    <tr>\n",
       "      <th>12604</th>\n",
       "      <td>cassan_5_97_236.det.lc.gz</td>\n",
       "      <td>0.353936</td>\n",
       "      <td>1.484704</td>\n",
       "      <td>2.224670</td>\n",
       "      <td>130.31200</td>\n",
       "    </tr>\n",
       "    <tr>\n",
       "      <th>12646</th>\n",
       "      <td>cassan_6_30_2665.det.lc.gz</td>\n",
       "      <td>2.258820</td>\n",
       "      <td>19.791016</td>\n",
       "      <td>1.268600</td>\n",
       "      <td>9.62853</td>\n",
       "    </tr>\n",
       "    <tr>\n",
       "      <th>12660</th>\n",
       "      <td>cassan_6_45_3239.det.lc.gz</td>\n",
       "      <td>1.555130</td>\n",
       "      <td>1.181070</td>\n",
       "      <td>0.322072</td>\n",
       "      <td>10.56980</td>\n",
       "    </tr>\n",
       "    <tr>\n",
       "      <th>12662</th>\n",
       "      <td>cassan_6_47_2007.det.lc.gz</td>\n",
       "      <td>0.284159</td>\n",
       "      <td>6.242054</td>\n",
       "      <td>0.979518</td>\n",
       "      <td>35.23180</td>\n",
       "    </tr>\n",
       "    <tr>\n",
       "      <th>12669</th>\n",
       "      <td>cassan_6_50_245.det.lc.gz</td>\n",
       "      <td>3.108620</td>\n",
       "      <td>4.086223</td>\n",
       "      <td>1.494220</td>\n",
       "      <td>47.02260</td>\n",
       "    </tr>\n",
       "    <tr>\n",
       "      <th>12682</th>\n",
       "      <td>cassan_6_61_1450.det.lc.gz</td>\n",
       "      <td>0.430059</td>\n",
       "      <td>0.000064</td>\n",
       "      <td>1.810570</td>\n",
       "      <td>23.11200</td>\n",
       "    </tr>\n",
       "    <tr>\n",
       "      <th>12712</th>\n",
       "      <td>cassan_6_98_639.det.lc.gz</td>\n",
       "      <td>0.653074</td>\n",
       "      <td>5.940350</td>\n",
       "      <td>1.148520</td>\n",
       "      <td>124.93800</td>\n",
       "    </tr>\n",
       "    <tr>\n",
       "      <th>12715</th>\n",
       "      <td>cassan_7_101_2609.det.lc.gz</td>\n",
       "      <td>1.261880</td>\n",
       "      <td>1.609306</td>\n",
       "      <td>0.431304</td>\n",
       "      <td>1.93670</td>\n",
       "    </tr>\n",
       "    <tr>\n",
       "      <th>12722</th>\n",
       "      <td>cassan_7_111_2492.det.lc.gz</td>\n",
       "      <td>2.170070</td>\n",
       "      <td>0.148686</td>\n",
       "      <td>1.511390</td>\n",
       "      <td>427.27100</td>\n",
       "    </tr>\n",
       "    <tr>\n",
       "      <th>12723</th>\n",
       "      <td>cassan_7_112_2965.det.lc.gz</td>\n",
       "      <td>2.812590</td>\n",
       "      <td>4.383472</td>\n",
       "      <td>2.120560</td>\n",
       "      <td>628.79500</td>\n",
       "    </tr>\n",
       "    <tr>\n",
       "      <th>12744</th>\n",
       "      <td>cassan_7_151_2893.det.lc.gz</td>\n",
       "      <td>2.697660</td>\n",
       "      <td>0.022684</td>\n",
       "      <td>2.309120</td>\n",
       "      <td>19.81040</td>\n",
       "    </tr>\n",
       "    <tr>\n",
       "      <th>12760</th>\n",
       "      <td>cassan_7_37_2794.det.lc.gz</td>\n",
       "      <td>2.129720</td>\n",
       "      <td>0.014023</td>\n",
       "      <td>0.805957</td>\n",
       "      <td>46.62200</td>\n",
       "    </tr>\n",
       "    <tr>\n",
       "      <th>12777</th>\n",
       "      <td>cassan_7_56_1873.det.lc.gz</td>\n",
       "      <td>2.786090</td>\n",
       "      <td>0.132647</td>\n",
       "      <td>2.093150</td>\n",
       "      <td>10.26690</td>\n",
       "    </tr>\n",
       "    <tr>\n",
       "      <th>12809</th>\n",
       "      <td>cassan_7_99_3006.det.lc.gz</td>\n",
       "      <td>0.306509</td>\n",
       "      <td>1.007528</td>\n",
       "      <td>2.818380</td>\n",
       "      <td>4.10425</td>\n",
       "    </tr>\n",
       "    <tr>\n",
       "      <th>12821</th>\n",
       "      <td>cassan_8_109_2079.det.lc.gz</td>\n",
       "      <td>2.653820</td>\n",
       "      <td>5.502382</td>\n",
       "      <td>0.547324</td>\n",
       "      <td>42.62170</td>\n",
       "    </tr>\n",
       "    <tr>\n",
       "      <th>12824</th>\n",
       "      <td>cassan_8_113_2239.det.lc.gz</td>\n",
       "      <td>2.931630</td>\n",
       "      <td>13.850927</td>\n",
       "      <td>2.149820</td>\n",
       "      <td>32.03220</td>\n",
       "    </tr>\n",
       "    <tr>\n",
       "      <th>12835</th>\n",
       "      <td>cassan_8_125_2439.det.lc.gz</td>\n",
       "      <td>2.791390</td>\n",
       "      <td>10.457662</td>\n",
       "      <td>2.506990</td>\n",
       "      <td>92.67350</td>\n",
       "    </tr>\n",
       "    <tr>\n",
       "      <th>12849</th>\n",
       "      <td>cassan_8_19_183.det.lc.gz</td>\n",
       "      <td>0.359996</td>\n",
       "      <td>12.140945</td>\n",
       "      <td>2.289010</td>\n",
       "      <td>7.56339</td>\n",
       "    </tr>\n",
       "    <tr>\n",
       "      <th>12903</th>\n",
       "      <td>cassan_8_86_1087.det.lc.gz</td>\n",
       "      <td>1.707840</td>\n",
       "      <td>0.019458</td>\n",
       "      <td>0.594809</td>\n",
       "      <td>6.95632</td>\n",
       "    </tr>\n",
       "    <tr>\n",
       "      <th>12948</th>\n",
       "      <td>cassan_9_19_2917.det.lc.gz</td>\n",
       "      <td>2.333400</td>\n",
       "      <td>0.133700</td>\n",
       "      <td>1.689110</td>\n",
       "      <td>3.65186</td>\n",
       "    </tr>\n",
       "    <tr>\n",
       "      <th>12951</th>\n",
       "      <td>cassan_9_21_2684.det.lc.gz</td>\n",
       "      <td>2.693740</td>\n",
       "      <td>0.000223</td>\n",
       "      <td>2.291940</td>\n",
       "      <td>26.26050</td>\n",
       "    </tr>\n",
       "    <tr>\n",
       "      <th>12971</th>\n",
       "      <td>cassan_9_4_2846.det.lc.gz</td>\n",
       "      <td>3.685030</td>\n",
       "      <td>0.193242</td>\n",
       "      <td>1.800420</td>\n",
       "      <td>4.00291</td>\n",
       "    </tr>\n",
       "    <tr>\n",
       "      <th>12990</th>\n",
       "      <td>cassan_9_70_184.det.lc.gz</td>\n",
       "      <td>1.428110</td>\n",
       "      <td>0.300721</td>\n",
       "      <td>0.826860</td>\n",
       "      <td>349.50200</td>\n",
       "    </tr>\n",
       "    <tr>\n",
       "      <th>13009</th>\n",
       "      <td>cassan_9_9_2528.det.lc.gz</td>\n",
       "      <td>0.456479</td>\n",
       "      <td>1.192811</td>\n",
       "      <td>1.444330</td>\n",
       "      <td>4.88613</td>\n",
       "    </tr>\n",
       "  </tbody>\n",
       "</table>\n",
       "<p>328 rows × 5 columns</p>\n",
       "</div>"
      ],
      "text/plain": [
       "                               name     s_true    s_fitted   u0_true  \\\n",
       "3911     cassan_0_24_3180.det.lc.gz   2.676270    8.069110  2.252670   \n",
       "3997    cassan_10_112_107.det.lc.gz   0.321046    0.156537  2.249300   \n",
       "4003    cassan_10_125_641.det.lc.gz   0.473747    9.619587  1.498290   \n",
       "4012    cassan_10_138_746.det.lc.gz   2.937400    5.338336  1.808160   \n",
       "4014   cassan_10_150_1550.det.lc.gz   4.561850    0.058409  1.269000   \n",
       "4025    cassan_10_31_1076.det.lc.gz   0.379592    0.034686  2.198120   \n",
       "4041     cassan_10_46_567.det.lc.gz   1.373120  114.301255  0.654623   \n",
       "4063    cassan_10_72_2091.det.lc.gz   0.538609   13.331760  1.315230   \n",
       "4089     cassan_10_99_632.det.lc.gz   3.735760    0.054087  2.596050   \n",
       "4094    cassan_11_101_479.det.lc.gz   3.151920    0.009065  2.265360   \n",
       "4105   cassan_11_114_2623.det.lc.gz   2.450270    0.083293  2.142510   \n",
       "4134     cassan_11_32_119.det.lc.gz   0.149408    0.826800  0.362760   \n",
       "4154    cassan_11_56_3181.det.lc.gz   2.137930    0.212449  1.285500   \n",
       "4194   cassan_12_124_2814.det.lc.gz   3.404220    0.098531  2.557010   \n",
       "4204   cassan_12_138_1155.det.lc.gz   1.917380    8.751992  1.554030   \n",
       "4227    cassan_12_32_1872.det.lc.gz   1.831490   15.442033  1.270340   \n",
       "4259     cassan_12_71_251.det.lc.gz   1.866990    0.265614  0.672344   \n",
       "4295    cassan_13_124_871.det.lc.gz   0.362445    9.505636  0.982489   \n",
       "4322    cassan_13_23_2721.det.lc.gz   2.449330    1.634422  1.925720   \n",
       "4330     cassan_13_35_833.det.lc.gz   3.185630    6.489328  0.636029   \n",
       "4356     cassan_13_6_1194.det.lc.gz   0.786824    0.003327  1.051130   \n",
       "4358    cassan_13_72_1706.det.lc.gz   1.239920    0.756613  0.554584   \n",
       "4392   cassan_14_114_3147.det.lc.gz   2.551880    0.023021  2.107560   \n",
       "4398   cassan_14_136_1694.det.lc.gz  34.733800    0.132747  2.290690   \n",
       "4411    cassan_14_19_2666.det.lc.gz   2.857760    0.110004  2.357320   \n",
       "4414     cassan_14_21_599.det.lc.gz   4.675210   34.064989  2.089410   \n",
       "4419      cassan_14_24_19.det.lc.gz   0.583071    0.023938  1.120250   \n",
       "4431     cassan_14_36_583.det.lc.gz   2.279800    1.032958  1.493700   \n",
       "4453     cassan_14_59_267.det.lc.gz   2.045090    0.002845  1.628530   \n",
       "4463    cassan_14_72_1452.det.lc.gz   1.924900   98.306684  0.302459   \n",
       "...                             ...        ...         ...       ...   \n",
       "12536    cassan_5_19_2390.det.lc.gz   2.199830    0.015763  1.719440   \n",
       "12546    cassan_5_30_3237.det.lc.gz   4.649110    0.058560  0.982298   \n",
       "12573    cassan_5_59_2480.det.lc.gz   4.924480    0.323981  0.719721   \n",
       "12574     cassan_5_5_1236.det.lc.gz   0.236888    0.015975  1.722000   \n",
       "12577    cassan_5_60_2691.det.lc.gz   2.401150    0.086422  1.966820   \n",
       "12602      cassan_5_8_886.det.lc.gz   0.707563    0.098623  0.650869   \n",
       "12604     cassan_5_97_236.det.lc.gz   0.353936    1.484704  2.224670   \n",
       "12646    cassan_6_30_2665.det.lc.gz   2.258820   19.791016  1.268600   \n",
       "12660    cassan_6_45_3239.det.lc.gz   1.555130    1.181070  0.322072   \n",
       "12662    cassan_6_47_2007.det.lc.gz   0.284159    6.242054  0.979518   \n",
       "12669     cassan_6_50_245.det.lc.gz   3.108620    4.086223  1.494220   \n",
       "12682    cassan_6_61_1450.det.lc.gz   0.430059    0.000064  1.810570   \n",
       "12712     cassan_6_98_639.det.lc.gz   0.653074    5.940350  1.148520   \n",
       "12715   cassan_7_101_2609.det.lc.gz   1.261880    1.609306  0.431304   \n",
       "12722   cassan_7_111_2492.det.lc.gz   2.170070    0.148686  1.511390   \n",
       "12723   cassan_7_112_2965.det.lc.gz   2.812590    4.383472  2.120560   \n",
       "12744   cassan_7_151_2893.det.lc.gz   2.697660    0.022684  2.309120   \n",
       "12760    cassan_7_37_2794.det.lc.gz   2.129720    0.014023  0.805957   \n",
       "12777    cassan_7_56_1873.det.lc.gz   2.786090    0.132647  2.093150   \n",
       "12809    cassan_7_99_3006.det.lc.gz   0.306509    1.007528  2.818380   \n",
       "12821   cassan_8_109_2079.det.lc.gz   2.653820    5.502382  0.547324   \n",
       "12824   cassan_8_113_2239.det.lc.gz   2.931630   13.850927  2.149820   \n",
       "12835   cassan_8_125_2439.det.lc.gz   2.791390   10.457662  2.506990   \n",
       "12849     cassan_8_19_183.det.lc.gz   0.359996   12.140945  2.289010   \n",
       "12903    cassan_8_86_1087.det.lc.gz   1.707840    0.019458  0.594809   \n",
       "12948    cassan_9_19_2917.det.lc.gz   2.333400    0.133700  1.689110   \n",
       "12951    cassan_9_21_2684.det.lc.gz   2.693740    0.000223  2.291940   \n",
       "12971     cassan_9_4_2846.det.lc.gz   3.685030    0.193242  1.800420   \n",
       "12990     cassan_9_70_184.det.lc.gz   1.428110    0.300721  0.826860   \n",
       "13009     cassan_9_9_2528.det.lc.gz   0.456479    1.192811  1.444330   \n",
       "\n",
       "         tE_true  \n",
       "3911    43.43670  \n",
       "3997    41.92060  \n",
       "4003    15.48550  \n",
       "4012    87.13640  \n",
       "4014    17.69290  \n",
       "4025    11.96570  \n",
       "4041    10.68870  \n",
       "4063    32.12070  \n",
       "4089    17.78740  \n",
       "4094    13.73380  \n",
       "4105    32.17450  \n",
       "4134   171.66200  \n",
       "4154     9.58229  \n",
       "4194    10.09470  \n",
       "4204    26.36380  \n",
       "4227     8.69618  \n",
       "4259    46.93240  \n",
       "4295    87.99140  \n",
       "4322   101.91400  \n",
       "4330     5.62002  \n",
       "4356    11.73850  \n",
       "4358     1.95742  \n",
       "4392    18.88210  \n",
       "4398    25.37440  \n",
       "4411   250.45800  \n",
       "4414    15.17460  \n",
       "4419    10.32360  \n",
       "4431     7.59315  \n",
       "4453     8.35895  \n",
       "4463    22.77410  \n",
       "...          ...  \n",
       "12536    4.43715  \n",
       "12546   25.78650  \n",
       "12573   30.83730  \n",
       "12574    6.04486  \n",
       "12577   10.43810  \n",
       "12602    4.72025  \n",
       "12604  130.31200  \n",
       "12646    9.62853  \n",
       "12660   10.56980  \n",
       "12662   35.23180  \n",
       "12669   47.02260  \n",
       "12682   23.11200  \n",
       "12712  124.93800  \n",
       "12715    1.93670  \n",
       "12722  427.27100  \n",
       "12723  628.79500  \n",
       "12744   19.81040  \n",
       "12760   46.62200  \n",
       "12777   10.26690  \n",
       "12809    4.10425  \n",
       "12821   42.62170  \n",
       "12824   32.03220  \n",
       "12835   92.67350  \n",
       "12849    7.56339  \n",
       "12903    6.95632  \n",
       "12948    3.65186  \n",
       "12951   26.26050  \n",
       "12971    4.00291  \n",
       "12990  349.50200  \n",
       "13009    4.88613  \n",
       "\n",
       "[328 rows x 5 columns]"
      ]
     },
     "execution_count": 29,
     "metadata": {},
     "output_type": "execute_result"
    }
   ],
   "source": [
    "df_org[['name','s_true','s_fitted','u0_true','tE_true']][((red_chi_2_1-red_chi_2_2)<10)][df_org['u0_true']>0.3]"
   ]
  },
  {
   "cell_type": "code",
   "execution_count": null,
   "metadata": {
    "collapsed": true
   },
   "outputs": [],
   "source": []
  }
 ],
 "metadata": {
  "kernelspec": {
   "display_name": "Python 2",
   "language": "python",
   "name": "python2"
  },
  "language_info": {
   "codemirror_mode": {
    "name": "ipython",
    "version": 2
   },
   "file_extension": ".py",
   "mimetype": "text/x-python",
   "name": "python",
   "nbconvert_exporter": "python",
   "pygments_lexer": "ipython2",
   "version": "2.7.11"
  }
 },
 "nbformat": 4,
 "nbformat_minor": 1
}
