{
 "cells": [
  {
   "cell_type": "code",
   "execution_count": 65,
   "metadata": {},
   "outputs": [],
   "source": [
    "import glob,os,sys\n",
    "import numpy as np\n",
    "import matplotlib.pyplot as plt\n",
    "import matplotlib\n",
    "from numpy import *\n",
    "import re\n",
    "import scipy.stats as st\n",
    "from os.path import expanduser\n",
    "import cmath\n",
    "import scipy.optimize as op\n",
    "import time\n",
    "import gzip\n",
    "import pandas as pd\n",
    "from mpl_toolkits.axes_grid1.inset_locator import zoomed_inset_axes\n",
    "from mpl_toolkits.axes_grid1.inset_locator import (mark_inset,inset_axes,InsetPosition)\n",
    "%matplotlib inline\n",
    "\n",
    "\n"
   ]
  },
  {
   "cell_type": "code",
   "execution_count": 66,
   "metadata": {},
   "outputs": [],
   "source": [
    "# Say, \"the default sans-serif font is COMIC SANS\"\n",
    "matplotlib.rcParams['font.sans-serif'] = \"Times New Roman\"\n",
    "# Then, \"ALWAYS use sans-serif fonts\"\n",
    "matplotlib.rcParams['font.family'] = \"serif\"\n",
    "\n",
    "start = time.time()\n",
    "\n",
    "home = os.path.expanduser(\"~\")\n",
    "\n",
    "direc = os.listdir(\".\")\n",
    "\n"
   ]
  },
  {
   "cell_type": "code",
   "execution_count": 67,
   "metadata": {},
   "outputs": [],
   "source": [
    "def empty(df):\n",
    "    return len(df.index) == 0\n",
    "    \n",
    "def fwhm(valuelist, peakpos,base):\n",
    "    peakvalue = valuelist[peakpos]-base\n",
    "    phalf = (peakvalue / 2.0)+base\n",
    "\n",
    "    # go left and right, starting from peakpos\n",
    "    ind1 = peakpos\n",
    "    ind2 = peakpos   \n",
    "\n",
    "    while ind1>2 and valuelist[ind1]>phalf:\n",
    "        ind1=ind1-1\n",
    "    while ind2<len(valuelist)-1 and valuelist[ind2]>phalf:\n",
    "        ind2=ind2+1  \n",
    "    return ind1,ind2\n",
    "\n",
    "def tE_finder (t,f,f_s):\n",
    "    df = pd.DataFrame({'t' : t, 'f' : f})\n",
    "    \n",
    "    A_base = (float(f_s)*0.34)+1\n",
    "    \n",
    "    t_max = df['t'][df['f'].argmax()]\n",
    "    t_right = df['t'][df['t']>t_max]\n",
    "    t_left = df['t'][df['t']<t_max]\n",
    "    \n",
    "    if empty(t_right) == 'False':\n",
    "        tE_right = np.abs(t_right[(np.abs(df['f'][df['t']>t_max]-(A_base))).argmin()]-t_max)\n",
    "    else:\n",
    "        tE_right = 1\n",
    "    if empty(t_left) == 'False':\n",
    "        tE_left = np.abs(t_left[(np.abs(df['f'][df['t']<t_max]-(A_base))).argmin()]-t_max)\n",
    "    else:\n",
    "        tE_left = 1\n",
    "    \n",
    "    return min([tE_right,tE_left])\n",
    "\n",
    "def fun (t0,u0,tE,f_s):\n",
    "    u = np.sqrt(u0**2+((df['t']-t0)/tE)**2)\n",
    "    A = ((u**2)+2)/(u*np.sqrt(u**2+4))\n",
    "    return (f_s * (A-1)) +1\n",
    "        \n",
    "def fun2 (mean, sigma,amp, t0,u0,tE,f_s):\n",
    "    u = np.sqrt(u0**2+((df['t']-t0)/tE)**2)\n",
    "    A = (((amp/np.sqrt(2*pi*(sigma**2)))*np.exp(-((df['t']-mean)**2)/(2*(sigma**2)))))+((u**2)+2)/(u*np.sqrt((u**2)+4))\n",
    "    return (f_s * (A-1)) +1\n",
    "\n",
    "def lnlike(theta, t, f, f_err):\n",
    "    t0, u0, tE,f_s = theta\n",
    "    model = fun(t0, u0, tE,f_s)\n",
    "    inv_sigma2 = 1.0/(f_err**2)\n",
    "    return -0.5*(np.sum((f-model)**2*inv_sigma2))\n",
    "\n",
    "def lnlike2(theta, t, f, f_err):\n",
    "    mean, sigma,amp, t0,u0,tE,f_s = theta\n",
    "    model = fun2(mean, sigma,amp, t0,u0,tE,f_s)\n",
    "    inv_sigma2 = 1.0/(f_err**2)\n",
    "    return -0.5*(np.sum((f-model)**2*inv_sigma2))\n"
   ]
  },
  {
   "cell_type": "code",
   "execution_count": 57,
   "metadata": {},
   "outputs": [],
   "source": [
    "def smooth(y, box_pts):\n",
    "    box = np.ones(box_pts)/box_pts\n",
    "    y_smooth = np.convolve(y, box, mode='same')\n",
    "    return y_smooth"
   ]
  },
  {
   "cell_type": "code",
   "execution_count": 58,
   "metadata": {},
   "outputs": [
    {
     "name": "stdout",
     "output_type": "stream",
     "text": [
      "[Errno 2] No such file or directory: './../../../../KMTNET/'\n",
      "/Users/somayeh/KMTNET/KB160001\n"
     ]
    }
   ],
   "source": [
    "cd ./../../../../KMTNET/"
   ]
  },
  {
   "cell_type": "code",
   "execution_count": 59,
   "metadata": {},
   "outputs": [
    {
     "name": "stdout",
     "output_type": "stream",
     "text": [
      "[Errno 2] No such file or directory: 'KB160001'\n",
      "/Users/somayeh/KMTNET/KB160001\n"
     ]
    }
   ],
   "source": [
    "cd KB160001"
   ]
  },
  {
   "cell_type": "code",
   "execution_count": 60,
   "metadata": {},
   "outputs": [
    {
     "name": "stdout",
     "output_type": "stream",
     "text": [
      "KMTA02_I.pysis  KMTC02_I.pysis  KMTS02_I.pysis  pysis.tar.gz\r\n"
     ]
    }
   ],
   "source": [
    "ls\n"
   ]
  },
  {
   "cell_type": "code",
   "execution_count": 61,
   "metadata": {},
   "outputs": [],
   "source": [
    "x = np.loadtxt('KMTA02_I.pysis')\n",
    "x1 = np.loadtxt('KMTC02_I.pysis')\n",
    "x2 = np.loadtxt('KMTS02_I.pysis')"
   ]
  },
  {
   "cell_type": "code",
   "execution_count": 62,
   "metadata": {},
   "outputs": [],
   "source": [
    "df = pd.DataFrame({'t': x[:,0], 'm':x[:,1], 'm_err': x[:,2]})\n",
    "df1 = pd.DataFrame({'t': x1[:,0], 'm':x1[:,1], 'm_err': x1[:,2]})\n",
    "df2 = pd.DataFrame({'t': x2[:,0], 'm':x2[:,1], 'm_err': x2[:,2]})"
   ]
  },
  {
   "cell_type": "code",
   "execution_count": 63,
   "metadata": {},
   "outputs": [
    {
     "data": {
      "image/png": "[encoded data removed]",
      "text/plain": [
       "<Figure size 432x288 with 1 Axes>"
      ]
     },
     "metadata": {},
     "output_type": "display_data"
    }
   ],
   "source": [
    "plt.plot(df['t'],df['m']+0.8,'b.')\n",
    "plt.plot(df1['t'],df1['m'],'k.')\n",
    "plt.plot(df2['t'],df2['m']-0.8,'g.')\n",
    "plt.ylim(15,21)\n",
    "\n",
    "\n",
    "plt.gca().invert_yaxis()\n",
    "\n"
   ]
  },
  {
   "cell_type": "code",
   "execution_count": 64,
   "metadata": {},
   "outputs": [
    {
     "data": {
      "image/png": "[encoded data removed]",
      "text/plain": [
       "<Figure size 432x288 with 1 Axes>"
      ]
     },
     "metadata": {},
     "output_type": "display_data"
    }
   ],
   "source": [
    "plt.plot(df['t'],smooth(df['m'],5)+0.5,'b.')\n",
    "plt.plot(df1['t'],smooth(df1['m'],5),'k.')\n",
    "plt.plot(df2['t'],smooth(df2['m'],5)-0.5,'g.')\n",
    "plt.ylim(15,20)\n",
    "plt.gca().invert_yaxis()\n",
    "\n"
   ]
  },
  {
   "cell_type": "code",
   "execution_count": 27,
   "metadata": {},
   "outputs": [
    {
     "data": {
      "text/plain": [
       "u'/Users/somayeh/KMTNET/KB160001'"
      ]
     },
     "execution_count": 27,
     "metadata": {},
     "output_type": "execute_result"
    }
   ],
   "source": [
    "pwd"
   ]
  },
  {
   "cell_type": "code",
   "execution_count": null,
   "metadata": {},
   "outputs": [],
   "source": []
  }
 ],
 "metadata": {
  "kernelspec": {
   "display_name": "Python 2",
   "language": "python",
   "name": "python2"
  },
  "language_info": {
   "codemirror_mode": {
    "name": "ipython",
    "version": 2
   },
   "file_extension": ".py",
   "mimetype": "text/x-python",
   "name": "python",
   "nbconvert_exporter": "python",
   "pygments_lexer": "ipython2",
   "version": "2.7.14"
  }
 },
 "nbformat": 4,
 "nbformat_minor": 2
}
