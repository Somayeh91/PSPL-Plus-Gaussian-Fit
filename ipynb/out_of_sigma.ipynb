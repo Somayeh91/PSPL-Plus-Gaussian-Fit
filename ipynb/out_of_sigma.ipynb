{
 "cells": [
  {
   "cell_type": "code",
   "execution_count": 51,
   "metadata": {
    "collapsed": true
   },
   "outputs": [],
   "source": [
    "import glob,os,sys\n",
    "import numpy as np\n",
    "import matplotlib.pyplot as plt\n",
    "import matplotlib as mat\n",
    "from numpy import *\n",
    "import re\n",
    "import scipy.stats as st\n",
    "from os.path import expanduser\n",
    "import cmath\n",
    "import scipy.optimize as op\n",
    "import time\n",
    "import gzip\n",
    "import pandas as pd\n",
    "%matplotlib inline\n"
   ]
  },
  {
   "cell_type": "code",
   "execution_count": 91,
   "metadata": {
    "collapsed": false
   },
   "outputs": [],
   "source": [
    "def med_med (true,fitted):\n",
    "    temp = fitted - true\n",
    "    return (np.median(np.abs(temp-np.median(temp))))\n",
    "\n",
    "\n",
    "\n",
    "home = os.path.expanduser(\"~\")\n",
    "\n",
    "direc = os.listdir(\".\")\n",
    "\n",
    "name = 'alllc_full_info_w_smoothing.CSV'  \n",
    "#Library/Mobile Documents/com~apple~CloudDocs/Microlensing/OSU trip/Matt/result_file/\n",
    "tempdata = home+'/Desktop/trial_runs/'+str(name)\n",
    "#&((df['f_s_true']*( (2 + df['u0_true']**2) / (df['u0_true']*np.sqrt(4 + df['u0_true']**2)) ) + (1-df['f_s_true']) )>1.5) & (df['u0_true']>0.1)\n",
    "df = pd.read_csv(tempdata)\n",
    "\n",
    "df['u0_true'] = np.abs(df['u0_true'])\n",
    "df['u0_fitted'] = np.abs(df['u0_fitted'])\n"
   ]
  },
  {
   "cell_type": "code",
   "execution_count": 92,
   "metadata": {
    "collapsed": true
   },
   "outputs": [],
   "source": [
    "red_chi_2_1 = np.abs(2*df['chi_2_1'])\n",
    "red_chi_2_2 = np.abs(2*df['chi_2_2'])"
   ]
  },
  {
   "cell_type": "code",
   "execution_count": 93,
   "metadata": {
    "collapsed": false
   },
   "outputs": [],
   "source": [
    "name = 'double-peaked.csv'  \n",
    "#Library/Mobile Documents/com~apple~CloudDocs/Microlensing/OSU trip/Matt/result_file/\n",
    "tempdata2 = home+'/Desktop/trial_runs/'+str(name)\n",
    "#&((df['f_s_true']*( (2 + df['u0_true']**2) / (df['u0_true']*np.sqrt(4 + df['u0_true']**2)) ) + (1-df['f_s_true']) )>1.5) & (df['u0_true']>0.1)\n",
    "dd = pd.read_csv(tempdata2)\n",
    "\n"
   ]
  },
  {
   "cell_type": "code",
   "execution_count": 94,
   "metadata": {
    "collapsed": true
   },
   "outputs": [],
   "source": [
    "df['tEp_true_2'] = df['tE_true']*np.sqrt(df['q_true'] + (df['rho']**2))\n",
    "df['tEp_fitted_2'] = df['tEp_fitted']"
   ]
  },
  {
   "cell_type": "code",
   "execution_count": 95,
   "metadata": {
    "collapsed": false
   },
   "outputs": [
    {
     "data": {
      "text/plain": [
       "0.10020890761215001"
      ]
     },
     "execution_count": 95,
     "metadata": {},
     "output_type": "execute_result"
    }
   ],
   "source": [
    "med_med(df['s_true_log'],df['s_fitted_log'])"
   ]
  },
  {
   "cell_type": "code",
   "execution_count": 96,
   "metadata": {
    "collapsed": false
   },
   "outputs": [
    {
     "data": {
      "text/plain": [
       "0.3986283823588779"
      ]
     },
     "execution_count": 96,
     "metadata": {},
     "output_type": "execute_result"
    }
   ],
   "source": [
    "med_med(np.log10(df['tEp_true_2']),np.log10(np.abs(df['tEp_fitted_2'])))"
   ]
  },
  {
   "cell_type": "code",
   "execution_count": 97,
   "metadata": {
    "collapsed": false
   },
   "outputs": [
    {
     "name": "stdout",
     "output_type": "stream",
     "text": [
      "50\n",
      "61\n",
      "78\n",
      "87\n",
      "127\n",
      "129\n",
      "154\n",
      "161\n",
      "162\n",
      "166\n",
      "179\n",
      "208\n",
      "213\n",
      "218\n",
      "272\n",
      "284\n",
      "286\n",
      "293\n",
      "324\n",
      "360\n",
      "369\n",
      "429\n",
      "432\n",
      "464\n",
      "495\n",
      "500\n",
      "558\n",
      "560\n",
      "561\n",
      "563\n",
      "597\n",
      "605\n",
      "623\n",
      "651\n",
      "662\n",
      "667\n",
      "670\n",
      "677\n",
      "683\n",
      "694\n",
      "704\n",
      "706\n",
      "768\n",
      "769\n",
      "774\n",
      "820\n",
      "840\n",
      "889\n",
      "1042\n",
      "1067\n",
      "1081\n",
      "1149\n",
      "1254\n",
      "1312\n",
      "1332\n",
      "1339\n",
      "1345\n",
      "1353\n",
      "1364\n",
      "1395\n",
      "1405\n",
      "1436\n",
      "1451\n",
      "1468\n",
      "1483\n",
      "1606\n",
      "1608\n",
      "1644\n",
      "1682\n",
      "1699\n",
      "1729\n",
      "1761\n",
      "1772\n",
      "1776\n",
      "1780\n",
      "1840\n",
      "1887\n",
      "1890\n",
      "1955\n",
      "1988\n",
      "2071\n",
      "2077\n",
      "2079\n",
      "2096\n",
      "2108\n",
      "2111\n",
      "2137\n",
      "2139\n",
      "2148\n",
      "2160\n",
      "2176\n",
      "2187\n",
      "2205\n",
      "2277\n",
      "2306\n",
      "2312\n",
      "2336\n",
      "2386\n",
      "2396\n",
      "2405\n",
      "2420\n",
      "2425\n",
      "2428\n",
      "2439\n",
      "2475\n",
      "2524\n",
      "2531\n",
      "2560\n",
      "2585\n",
      "2608\n",
      "2718\n",
      "2725\n",
      "2737\n",
      "2738\n",
      "2755\n",
      "2811\n",
      "2854\n",
      "2901\n",
      "2904\n",
      "2910\n",
      "2938\n",
      "2941\n",
      "2972\n",
      "2989\n",
      "3021\n",
      "3061\n",
      "3072\n",
      "3077\n",
      "3078\n",
      "3081\n",
      "3096\n",
      "3102\n",
      "3131\n",
      "3136\n",
      "3164\n",
      "3199\n",
      "3228\n",
      "3240\n",
      "3290\n",
      "3309\n",
      "3321\n",
      "3345\n",
      "3408\n",
      "3479\n",
      "3485\n",
      "3524\n",
      "3616\n",
      "3624\n",
      "3626\n",
      "3628\n",
      "3642\n",
      "3645\n",
      "3667\n",
      "3675\n",
      "3677\n",
      "3700\n",
      "3716\n",
      "3758\n",
      "3814\n",
      "3820\n",
      "3831\n",
      "3836\n",
      "3883\n",
      "3912\n",
      "3935\n",
      "3946\n",
      "3947\n",
      "3948\n",
      "3950\n",
      "3953\n",
      "3982\n",
      "3984\n",
      "3987\n",
      "4027\n",
      "4066\n",
      "4091\n",
      "4097\n",
      "4099\n",
      "4109\n",
      "4112\n",
      "4115\n",
      "4120\n",
      "4121\n",
      "4137\n",
      "4142\n",
      "4149\n",
      "4157\n",
      "4171\n",
      "4198\n",
      "4225\n",
      "4226\n",
      "4233\n",
      "4243\n",
      "4245\n",
      "4248\n",
      "4249\n",
      "4267\n",
      "4268\n",
      "4272\n",
      "4298\n",
      "4353\n",
      "4368\n",
      "4371\n",
      "4391\n",
      "4399\n",
      "4402\n",
      "4409\n",
      "4446\n",
      "4450\n",
      "4466\n",
      "4475\n",
      "4481\n",
      "4484\n",
      "4514\n",
      "4519\n",
      "4526\n",
      "4545\n",
      "4551\n",
      "4557\n",
      "4578\n",
      "4594\n",
      "4595\n",
      "4608\n",
      "4620\n",
      "4637\n",
      "4667\n",
      "4689\n",
      "4696\n",
      "4699\n",
      "4724\n",
      "4745\n",
      "4753\n",
      "4783\n",
      "4801\n",
      "4803\n",
      "4809\n",
      "4827\n",
      "4828\n",
      "4836\n",
      "4844\n",
      "4845\n",
      "4864\n",
      "4870\n",
      "4902\n",
      "4915\n",
      "4941\n",
      "4960\n",
      "4972\n",
      "4987\n",
      "4991\n",
      "5016\n",
      "5019\n",
      "5049\n",
      "5089\n",
      "5091\n",
      "5102\n",
      "5136\n",
      "5156\n",
      "5177\n",
      "5205\n",
      "5235\n",
      "5239\n",
      "5241\n",
      "5249\n",
      "5263\n",
      "5268\n",
      "5280\n",
      "5283\n",
      "5308\n",
      "5329\n",
      "5331\n",
      "5335\n",
      "5353\n",
      "5361\n",
      "5363\n",
      "5366\n",
      "5373\n",
      "5375\n",
      "5377\n",
      "5386\n",
      "5410\n",
      "5432\n",
      "5441\n",
      "5477\n",
      "5503\n",
      "5507\n",
      "5516\n",
      "5523\n",
      "5524\n",
      "5581\n",
      "5590\n",
      "5608\n",
      "5612\n",
      "5618\n",
      "5645\n",
      "5659\n",
      "5687\n",
      "5712\n",
      "5724\n",
      "5728\n",
      "5730\n",
      "5748\n",
      "5765\n",
      "5768\n",
      "5771\n",
      "5793\n",
      "5799\n",
      "5800\n",
      "5807\n",
      "5817\n",
      "5829\n",
      "5853\n",
      "5863\n",
      "5903\n",
      "5954\n",
      "5994\n",
      "6002\n",
      "6007\n",
      "6024\n",
      "6037\n",
      "6038\n",
      "6044\n",
      "6057\n",
      "6078\n",
      "6087\n",
      "6088\n",
      "6109\n",
      "6111\n",
      "6154\n",
      "6190\n",
      "6201\n",
      "6245\n",
      "6251\n",
      "6280\n",
      "6284\n",
      "6293\n",
      "6295\n",
      "6297\n",
      "6306\n",
      "6320\n",
      "6340\n",
      "6359\n",
      "6474\n",
      "6492\n",
      "6502\n",
      "6541\n",
      "6544\n",
      "6552\n",
      "6583\n",
      "6610\n",
      "6744\n",
      "6762\n",
      "6764\n",
      "6826\n",
      "6830\n",
      "6861\n",
      "6922\n",
      "6950\n",
      "6978\n",
      "6984\n",
      "6989\n",
      "7017\n",
      "7033\n",
      "7082\n",
      "7087\n",
      "7096\n",
      "7138\n",
      "7149\n",
      "7162\n",
      "7178\n",
      "7188\n",
      "7218\n",
      "7279\n",
      "7342\n",
      "7343\n",
      "7344\n",
      "7403\n",
      "7442\n",
      "7452\n",
      "7454\n",
      "7476\n",
      "7496\n",
      "7498\n",
      "7531\n",
      "7557\n",
      "7603\n",
      "7616\n",
      "7636\n",
      "7637\n",
      "7662\n",
      "7667\n",
      "7701\n",
      "7705\n",
      "7713\n",
      "7714\n",
      "7721\n",
      "7760\n",
      "7766\n",
      "7772\n",
      "7783\n",
      "7805\n",
      "7807\n",
      "7816\n",
      "7835\n",
      "7852\n",
      "7909\n",
      "7915\n",
      "7934\n",
      "7948\n",
      "7951\n",
      "7996\n",
      "7998\n",
      "8009\n",
      "8039\n",
      "8043\n",
      "8074\n",
      "8133\n",
      "8194\n",
      "8205\n",
      "8207\n",
      "8223\n",
      "8292\n",
      "8340\n",
      "8345\n",
      "8377\n",
      "8389\n",
      "8460\n",
      "8494\n",
      "8510\n",
      "8586\n",
      "8637\n",
      "8657\n",
      "8682\n",
      "8690\n",
      "8695\n",
      "8762\n",
      "8775\n",
      "8777\n",
      "8786\n",
      "8804\n",
      "8816\n",
      "8819\n",
      "8831\n",
      "8842\n",
      "8844\n",
      "8868\n",
      "8875\n",
      "8913\n",
      "8944\n",
      "8954\n",
      "8967\n",
      "8982\n",
      "8985\n",
      "9030\n",
      "9036\n",
      "9051\n",
      "9077\n",
      "9083\n",
      "9106\n",
      "9140\n",
      "9148\n",
      "9152\n",
      "9161\n",
      "9163\n",
      "9201\n",
      "9238\n",
      "9314\n",
      "9383\n",
      "9441\n",
      "9516\n",
      "9556\n",
      "9572\n",
      "9633\n",
      "9638\n",
      "9671\n",
      "9672\n",
      "9703\n",
      "9708\n",
      "9739\n",
      "9746\n",
      "9751\n",
      "9778\n",
      "9847\n",
      "9871\n",
      "9872\n",
      "9939\n",
      "9942\n",
      "10018\n",
      "10067\n",
      "10088\n",
      "10098\n",
      "10110\n",
      "10141\n",
      "10162\n",
      "10197\n",
      "10365\n",
      "10391\n",
      "10404\n",
      "10405\n",
      "10412\n",
      "10413\n",
      "10451\n",
      "10477\n",
      "10488\n",
      "10501\n",
      "10511\n",
      "10530\n",
      "10533\n",
      "10546\n",
      "10563\n",
      "10618\n",
      "10622\n",
      "10629\n",
      "10640\n",
      "10657\n",
      "10668\n",
      "10708\n",
      "10709\n",
      "10738\n",
      "10754\n",
      "10755\n",
      "10768\n",
      "10784\n",
      "10792\n",
      "10793\n",
      "10800\n",
      "10816\n",
      "10821\n",
      "10833\n",
      "10836\n",
      "10843\n",
      "10852\n",
      "10854\n",
      "10857\n",
      "10874\n",
      "10897\n",
      "10917\n",
      "11056\n",
      "11072\n",
      "11078\n",
      "11082\n",
      "11091\n",
      "11103\n",
      "11105\n",
      "11137\n",
      "11138\n",
      "11160\n",
      "11173\n",
      "11179\n",
      "11186\n",
      "11201\n",
      "11204\n",
      "11214\n",
      "11233\n",
      "11274\n",
      "11297\n",
      "11303\n",
      "11312\n",
      "11325\n",
      "11331\n",
      "11360\n",
      "11380\n",
      "11385\n",
      "11386\n",
      "11390\n",
      "11470\n",
      "11471\n",
      "11506\n",
      "11515\n",
      "11517\n",
      "11523\n",
      "11534\n",
      "11548\n",
      "11552\n",
      "11553\n",
      "11558\n",
      "11599\n",
      "11614\n",
      "11615\n",
      "11641\n",
      "11662\n",
      "11665\n",
      "11669\n",
      "11673\n",
      "11674\n",
      "11702\n",
      "11717\n",
      "11725\n",
      "11731\n",
      "11735\n",
      "11742\n",
      "11745\n",
      "11751\n",
      "11756\n",
      "11773\n",
      "11790\n",
      "11795\n",
      "11807\n",
      "11812\n",
      "11818\n",
      "11823\n",
      "11827\n",
      "11837\n",
      "11838\n",
      "11845\n",
      "11846\n",
      "11861\n",
      "11869\n",
      "11877\n",
      "11879\n",
      "11907\n",
      "11952\n",
      "11980\n",
      "12007\n",
      "12013\n",
      "12020\n",
      "12025\n",
      "12030\n",
      "12051\n",
      "12070\n",
      "12091\n",
      "12094\n",
      "12100\n",
      "12101\n",
      "12130\n",
      "12180\n",
      "12186\n",
      "12196\n",
      "12199\n",
      "12205\n",
      "12255\n",
      "12283\n",
      "12304\n",
      "12311\n",
      "12325\n",
      "12332\n",
      "12345\n",
      "12346\n",
      "12348\n",
      "12368\n",
      "12380\n",
      "12389\n",
      "12396\n",
      "12400\n",
      "12421\n",
      "12425\n",
      "12429\n",
      "12430\n",
      "12438\n",
      "12454\n",
      "12461\n",
      "12465\n",
      "12473\n",
      "12481\n",
      "12484\n",
      "12487\n",
      "12488\n",
      "12491\n",
      "12514\n",
      "12518\n",
      "12528\n",
      "12543\n",
      "12548\n",
      "12552\n",
      "12589\n",
      "12618\n",
      "12630\n",
      "12640\n",
      "12657\n",
      "12681\n",
      "12716\n",
      "12726\n",
      "12736\n",
      "12741\n",
      "12766\n",
      "12775\n",
      "12778\n",
      "12785\n",
      "12790\n",
      "12791\n",
      "12814\n",
      "12840\n",
      "12851\n",
      "12863\n",
      "12869\n",
      "12881\n",
      "12891\n",
      "12901\n",
      "12934\n",
      "12944\n",
      "12954\n",
      "12988\n",
      "12992\n",
      "12995\n",
      "12997\n",
      "13000\n",
      "done\n"
     ]
    }
   ],
   "source": [
    "df_new_test = df\n",
    "df = df.reset_index()\n",
    "for i in range(len(df)):\n",
    "    if df['name'][i] in np.asarray(dd['name']):\n",
    "        print i\n",
    "        df = df.drop([i], axis=0)\n",
    "print 'done'"
   ]
  },
  {
   "cell_type": "code",
   "execution_count": 98,
   "metadata": {
    "collapsed": false
   },
   "outputs": [
    {
     "name": "stdout",
     "output_type": "stream",
     "text": [
      "12314\n",
      "6080\n"
     ]
    },
    {
     "name": "stderr",
     "output_type": "stream",
     "text": [
      "/Users/Research/Library/Enthought/Canopy_64bit/User/lib/python2.7/site-packages/ipykernel/__main__.py:5: SettingWithCopyWarning: \n",
      "A value is trying to be set on a copy of a slice from a DataFrame\n",
      "\n",
      "See the caveats in the documentation: http://pandas.pydata.org/pandas-docs/stable/indexing.html#indexing-view-versus-copy\n",
      "/Users/Research/Library/Enthought/Canopy_64bit/User/lib/python2.7/site-packages/ipykernel/__main__.py:6: SettingWithCopyWarning: \n",
      "A value is trying to be set on a copy of a slice from a DataFrame\n",
      "\n",
      "See the caveats in the documentation: http://pandas.pydata.org/pandas-docs/stable/indexing.html#indexing-view-versus-copy\n",
      "/Users/Research/Library/Enthought/Canopy_64bit/User/lib/python2.7/site-packages/ipykernel/__main__.py:10: UserWarning: Boolean Series key will be reindexed to match DataFrame index.\n"
     ]
    }
   ],
   "source": [
    "print len(df)\n",
    "#df = df[ (df['chi_2_2']>-25000) & (df['s_fitted']<5) & ((df['f_s_true']*( (2 + df['u0_true']**2) / (df['u0_true']*np.sqrt(4 + df['u0_true']**2)) ) + (1-df['f_s_true']) )>1.1)]\n",
    "#df = df[(np.abs(df['t0_fitted']-df['tp_fitted'])>1) & ((-2*df['chi_2_2']/41039)>1.003) ]\n",
    "df_org = df\n",
    "df['q_fitted_log'][df['q_fitted_log']>0] = np.log10( 1/df['q_fitted'][df['q_fitted_log']>0] )\n",
    "df['q_fitted'][df['q_fitted_log']>0] = ( 1/df['q_fitted'][df['q_fitted_log']>0] )\n",
    "\n",
    "\n",
    "\n",
    "df = df[((red_chi_2_1-red_chi_2_2)>160)]\n",
    "print (len(df))\n",
    "\n",
    "\n"
   ]
  },
  {
   "cell_type": "code",
   "execution_count": 99,
   "metadata": {
    "collapsed": false
   },
   "outputs": [
    {
     "name": "stdout",
     "output_type": "stream",
     "text": [
      "4659\n"
     ]
    }
   ],
   "source": [
    "df = df[np.abs(df['u0_fitted'])>0.045] #02/20/2018\n",
    "df = df[df['s_fitted']<5]\n",
    "print(len(df))"
   ]
  },
  {
   "cell_type": "code",
   "execution_count": 100,
   "metadata": {
    "collapsed": true
   },
   "outputs": [],
   "source": [
    "# Absolute deviation from median for regin s_true>1 and s_fitted>1\n",
    "x1 = np.abs((np.log10(df['s_true'][(df['s_true']>1)&(df['s_fitted']>1)])-np.log10(df['s_fitted'][(df['s_true']>1)&(df['s_fitted']>1)])) - \n",
    "           np.median(np.log10(df['s_true'][(df['s_true']>1)&(df['s_fitted']>1)])-np.log10(df['s_fitted'][(df['s_true']>1)&(df['s_fitted']>1)])))\n",
    "\n",
    "# Absolute deviation from median for regin s_true<1 and s_fitted>1\n",
    "x2 = np.abs( (np.log10(df['s_true'][(df['s_true']<1)&(df['s_fitted']>1)])-np.log10(1.0/df['s_fitted'][(df['s_true']<1)&(df['s_fitted']>1)])) - \n",
    "            np.median (np.log10(df['s_true'][(df['s_true']<1)&(df['s_fitted']>1)])-np.log10(1.0/df['s_fitted'][(df['s_true']<1)&(df['s_fitted']>1)])))\n",
    "\n",
    "# Absolute deviation from median for regin s_true>1 and s_fitted<1\n",
    "x3 = np.abs( (np.log10(df['s_true'][(df['s_true']>1)&(df['s_fitted']<1)])-np.log10(1.0/df['s_fitted'][(df['s_true']>1)&(df['s_fitted']<1)])) - \n",
    "            np.median (np.log10(df['s_true'][(df['s_true']>1)&(df['s_fitted']<1)])-np.log10(1.0/df['s_fitted'][(df['s_true']>1)&(df['s_fitted']<1)])))\n",
    "\n",
    "# Absolute deviation from median for regin s_true<1 and s_fitted<1\n",
    "x4 = np.abs( (np.log10(df['s_true'][(df['s_true']<1)&(df['s_fitted']<1)])-np.log10(df['s_fitted'][(df['s_true']<1)&(df['s_fitted']<1)])) - \n",
    "            np.median (np.log10(df['s_true'][(df['s_true']<1)&(df['s_fitted']<1)])-np.log10(df['s_fitted'][(df['s_true']<1)&(df['s_fitted']<1)])))\n",
    "\n",
    "# Merging all above lists. a is absolute deviation from median for all targets with respect to their own distributions\n",
    "frames1 = [x1,x4]\n",
    "frames2 = [x2,x3]\n",
    "frames3 = [x1,x2,x3,x4]\n",
    "a_one_one = np.median(pd.concat(frames1))\n",
    "a_curve = np.median(pd.concat(frames2))\n",
    "a_total = np.median(pd.concat(frames3))"
   ]
  },
  {
   "cell_type": "code",
   "execution_count": 101,
   "metadata": {
    "collapsed": false
   },
   "outputs": [
    {
     "data": {
      "image/png": "[encoded data removed]",
      "text/plain": [
       "<matplotlib.figure.Figure at 0x1129dbe10>"
      ]
     },
     "metadata": {},
     "output_type": "display_data"
    }
   ],
   "source": [
    "MAD_x = 0.8\n",
    "MAD_y = 0.08\n",
    "plt.close()\n",
    "\n",
    "f, axarr = plt.subplots(1, 2)\n",
    "#f.suptitle('Plots of Fitted physical parameters \"q\" and \"s\" Versus True parameters for '+str(len(df))+' targets',size=20)\n",
    "\n",
    "#axarr[0].set_title('Projected Separation' ,size=26)\n",
    "\n",
    "axarr[0].loglog (df['s_true'],df['s_fitted'],'b.',label='_nolegend_',markersize=8 , alpha = 0.4)\n",
    "#axarr[0].plot (df['s_true'][(df['ampl_fitted']>0.5)|(df['ampl_fitted']<-0.5)],df['s_fitted'][(df['ampl_fitted']>0.5)|(df['ampl_fitted']<-0.5)],'r.',label='_nolegend_',markersize=8 , alpha = 0.4)\n",
    "#\n",
    "axarr[0].loglog ((0.1,10),(0.1,10),'k-',label='_nolegend_')\n",
    "axarr[0].set_xlim((0.1,10))\n",
    "axarr[0].set_ylim((0.1,10))\n",
    "axarr[0].tick_params(axis='x',labelsize=16)\n",
    "axarr[0].tick_params(axis='y',labelsize=16)\n",
    "#plt.legend()\n",
    "plt.text(MAD_x, MAD_y+0.1, 'MAD = '+str(round(med_med(np.log10(np.abs(df['s_true'])),np.log10(np.abs(df['s_fitted']))),2)),fontweight='bold', size = 20\n",
    "        ,horizontalalignment='center', verticalalignment='center', transform = axarr[0].transAxes)\n",
    "plt.text(MAD_x, MAD_y+0.05, 'MAD1 = '+str(round(a_one_one,2)),fontweight='bold', size = 20\n",
    "        ,horizontalalignment='center', verticalalignment='center', transform = axarr[0].transAxes)\n",
    "plt.text(MAD_x, MAD_y, 'MAD2 ='+str(round(a_curve,2)),fontweight='bold', size = 20\n",
    "        ,horizontalalignment='center', verticalalignment='center', transform = axarr[0].transAxes)\n",
    "plt.text(MAD_x, MAD_y-0.05, 'MAD3 = '+str(round(a_total,2)),fontweight='bold', size = 20\n",
    "        ,horizontalalignment='center', verticalalignment='center', transform = axarr[0].transAxes)\n",
    "axarr[0].set_xlabel('True Projected Separation ($R_E$)',size=20)\n",
    "axarr[0].set_ylabel('Fitted Projected Separation ($R_E$)',size=20)\n",
    "axarr[0].grid(b=True, which='minor')\n",
    "axarr[0].grid(b=True, which='major')\n",
    "\n",
    "\n",
    "\n",
    "#axarr[1].set_title('Mass Ratio ',size=26)\n",
    "axarr[1].loglog (df['tEp_true_2'],df['tEp_fitted'],'b.',markersize=10,label='_nolegend_',alpha=0.4)\n",
    "axarr[1].loglog (df['tEp_true_2'][(df['tEp_fitted']>df['tEp_true_2']*8) & (df['tEp_fitted']<df['tEp_true_2']*8)],\n",
    "                 df['tEp_fitted'][(df['tEp_fitted']>df['tEp_true_2']*8) & (df['tEp_fitted']<df['tEp_true_2']*8)],\n",
    "                 'r.', markersize=10,label='_nolegend_',alpha=0.4)\n",
    "\n",
    "\n",
    "#axarr[1].plot (df['q_true_log'][(df['ampl_fitted']>0.5)|(df['ampl_fitted']<-0.5)],df['q_fitted_log'][(df['ampl_fitted']>0.5)|(df['ampl_fitted']<-0.5)],'r.',markersize=10,label='_nolegend_',alpha=0.4)\n",
    "\n",
    "axarr[1].loglog ((10**-3,400),( 10**-3,400),'k-',label='_nolegend_')\n",
    "axarr[1].set_xlim((10**-3,400))\n",
    "axarr[1].set_ylim(( 10**-5,400))\n",
    "plt.text(MAD_x, MAD_y, 'MAD = '+str(round(med_med(np.log10(np.abs(df['tEp_true_2'])),np.log10(np.abs(df['tEp_fitted']))),2)),fontweight='bold', size = 20\n",
    "        ,horizontalalignment='center', verticalalignment='center', transform = axarr[1].transAxes)\n",
    "\n",
    "axarr[1].set_xlabel( 'Input '+r'$\\sqrt{q+{\\rho}^2}\\times t_E$',size=20)\n",
    "axarr[1].set_ylabel('Fitted Perturbation Duration '+ r' $(t_{Ep})$',size=20)\n",
    "axarr[1].tick_params(axis='x',labelsize=16)\n",
    "axarr[1].tick_params(axis='y',labelsize=16)\n",
    "#plt.legend()\n",
    "axarr[1].grid()\n",
    "\n",
    "\n",
    "\n",
    "\n",
    "\n",
    "f.set_size_inches(16,7)\n",
    "#f.savefig(home+'/Desktop/result_q_s_after_smoothing_log_S.png')"
   ]
  },
  {
   "cell_type": "code",
   "execution_count": 45,
   "metadata": {
    "collapsed": true
   },
   "outputs": [],
   "source": [
    "MAD_s = med_med(df['s_true_log'],df['s_fitted_log'])\n",
    "MAD_q = med_med(np.log10(df['tEp_true_2']),np.log10(np.abs(df['tEp_fitted_2'])))"
   ]
  },
  {
   "cell_type": "code",
   "execution_count": 23,
   "metadata": {
    "collapsed": false
   },
   "outputs": [
    {
     "data": {
      "text/plain": [
       "19.400675295441754"
      ]
     },
     "execution_count": 23,
     "metadata": {},
     "output_type": "execute_result"
    }
   ],
   "source": [
    "# Out of 2 MADs for tEP\n",
    "len(df['tEp_true_2'][(np.log10(np.abs(df['tEp_fitted_2']))>np.log10(df['tEp_true_2'])+2*MAD_q) | \n",
    "                    (np.log10(np.abs(df['tEp_fitted_2']))<np.log10(df['tEp_true_2'])-2*MAD_q)])/float(len(df)) * 100"
   ]
  },
  {
   "cell_type": "code",
   "execution_count": 25,
   "metadata": {
    "collapsed": false
   },
   "outputs": [
    {
     "data": {
      "text/plain": [
       "33.033202025886325"
      ]
     },
     "execution_count": 25,
     "metadata": {},
     "output_type": "execute_result"
    }
   ],
   "source": [
    "#Out of 2 MADs for s\n",
    "len(df['s_true'][(df['s_fitted_log']>df['s_true_log']+ 2*MAD_s)|(df['s_fitted_log']<df['s_true_log']-2*MAD_s)])/float(len(df)) *100"
   ]
  },
  {
   "cell_type": "code",
   "execution_count": 26,
   "metadata": {
    "collapsed": false
   },
   "outputs": [
    {
     "data": {
      "text/plain": [
       "8.033202025886325"
      ]
     },
     "execution_count": 26,
     "metadata": {},
     "output_type": "execute_result"
    }
   ],
   "source": [
    "#Out of 2 MADs for both tEp and s\n",
    "len(df['s_true'][((df['s_fitted_log']>df['s_true_log']+ 2*MAD_s)|(df['s_fitted_log']<df['s_true_log']-2*MAD_s)) & \n",
    "                 ((np.log10(np.abs(df['tEp_fitted_2']))>np.log10(df['tEp_true_2'])+2*MAD_q) | \n",
    "                    (np.log10(np.abs(df['tEp_fitted_2']))<np.log10(df['tEp_true_2'])-2*MAD_q)) ])/float(len(df)) *100"
   ]
  },
  {
   "cell_type": "code",
   "execution_count": 34,
   "metadata": {
    "collapsed": false
   },
   "outputs": [
    {
     "data": {
      "text/plain": [
       "44.40067529544176"
      ]
     },
     "execution_count": 34,
     "metadata": {},
     "output_type": "execute_result"
    }
   ],
   "source": [
    "#Out of 2 MADs for both tEp and s\n",
    "len(df['s_true'][((df['s_fitted_log']>df['s_true_log']+ 2*MAD_s)|(df['s_fitted_log']<df['s_true_log']-2*MAD_s)) | \n",
    "                 ((np.log10(np.abs(df['tEp_fitted_2']))>np.log10(df['tEp_true_2'])+2*MAD_q) | \n",
    "                    (np.log10(np.abs(df['tEp_fitted_2']))<np.log10(df['tEp_true_2'])-2*MAD_q)) ])/float(len(df)) *100"
   ]
  },
  {
   "cell_type": "code",
   "execution_count": 46,
   "metadata": {
    "collapsed": true
   },
   "outputs": [],
   "source": [
    "sigma_s = 1.4826 * MAD_s\n",
    "sigma_q = 1.4826 * MAD_q"
   ]
  },
  {
   "cell_type": "code",
   "execution_count": 47,
   "metadata": {
    "collapsed": false
   },
   "outputs": [
    {
     "data": {
      "text/plain": [
       "9.882654932159882"
      ]
     },
     "execution_count": 47,
     "metadata": {},
     "output_type": "execute_result"
    }
   ],
   "source": [
    "# Out of 2 sigmas , sigma is the scaled MAD in log units\n",
    "len(df['tEp_true_2'][(np.log10(np.abs(df['tEp_fitted_2']))>np.log10(df['tEp_true_2'])+2*sigma_q) | \n",
    "                    (np.log10(np.abs(df['tEp_fitted_2']))<np.log10(df['tEp_true_2'])-2*sigma_q)])/float(len(df)) * 100"
   ]
  },
  {
   "cell_type": "code",
   "execution_count": 48,
   "metadata": {
    "collapsed": false
   },
   "outputs": [
    {
     "data": {
      "text/plain": [
       "24.99083241657499"
      ]
     },
     "execution_count": 48,
     "metadata": {},
     "output_type": "execute_result"
    }
   ],
   "source": [
    "# Out of one sigma, sigma is the scaled MAD in log units\n",
    "len(df['s_true'][(df['s_fitted_log']>df['s_true_log']+ 2*sigma_s)|(df['s_fitted_log']<df['s_true_log']-2*sigma_s)])/float(len(df)) *100"
   ]
  },
  {
   "cell_type": "code",
   "execution_count": 49,
   "metadata": {
    "collapsed": false
   },
   "outputs": [
    {
     "data": {
      "text/plain": [
       "3.667033370003667"
      ]
     },
     "execution_count": 49,
     "metadata": {},
     "output_type": "execute_result"
    }
   ],
   "source": [
    "#Out of 2 sigmas, sigma is the scaled MAD in log units\n",
    "len(df['s_true'][((df['s_fitted_log']>df['s_true_log']+ 2*sigma_s)|(df['s_fitted_log']<df['s_true_log']-2*sigma_s)) & \n",
    "                 ((np.log10(np.abs(df['tEp_fitted_2']))>np.log10(df['tEp_true_2'])+2*sigma_q) | \n",
    "                    (np.log10(np.abs(df['tEp_fitted_2']))<np.log10(df['tEp_true_2'])-2*sigma_q)) ])/float(len(df)) *100"
   ]
  },
  {
   "cell_type": "code",
   "execution_count": 50,
   "metadata": {
    "collapsed": false
   },
   "outputs": [
    {
     "data": {
      "text/plain": [
       "31.206453978731208"
      ]
     },
     "execution_count": 50,
     "metadata": {},
     "output_type": "execute_result"
    }
   ],
   "source": [
    "#Out of 2 sigmas, sigma is the scaled MAD in log units\n",
    "len(df['s_true'][((df['s_fitted_log']>df['s_true_log']+ 2*sigma_s)|(df['s_fitted_log']<df['s_true_log']-2*sigma_s)) | \n",
    "                 ((np.log10(np.abs(df['tEp_fitted_2']))>np.log10(df['tEp_true_2'])+2*sigma_q) | \n",
    "                    (np.log10(np.abs(df['tEp_fitted_2']))<np.log10(df['tEp_true_2'])-2*sigma_q)) ])/float(len(df)) *100"
   ]
  },
  {
   "cell_type": "code",
   "execution_count": null,
   "metadata": {
    "collapsed": true
   },
   "outputs": [],
   "source": []
  }
 ],
 "metadata": {
  "kernelspec": {
   "display_name": "Python 2",
   "language": "python",
   "name": "python2"
  },
  "language_info": {
   "codemirror_mode": {
    "name": "ipython",
    "version": 2
   },
   "file_extension": ".py",
   "mimetype": "text/x-python",
   "name": "python",
   "nbconvert_exporter": "python",
   "pygments_lexer": "ipython2",
   "version": "2.7.11"
  }
 },
 "nbformat": 4,
 "nbformat_minor": 0
}
